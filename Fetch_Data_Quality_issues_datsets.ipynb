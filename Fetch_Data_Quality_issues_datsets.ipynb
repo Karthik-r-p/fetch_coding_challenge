{
 "cells": [
  {
   "cell_type": "markdown",
   "id": "8805951e",
   "metadata": {},
   "source": [
    "# Fetch coding challenge"
   ]
  },
  {
   "cell_type": "code",
   "execution_count": 170,
   "id": "1ab119de",
   "metadata": {},
   "outputs": [],
   "source": [
    "import pandas as pd\n",
    "import numpy as np\n",
    "import matplotlib.pyplot as plt\n",
    "import json\n",
    "from pandas.io.json import json_normalize\n"
   ]
  },
  {
   "cell_type": "markdown",
   "id": "529b0421",
   "metadata": {},
   "source": [
    "# Receipts data set"
   ]
  },
  {
   "cell_type": "code",
   "execution_count": 213,
   "id": "ba1bfe6d",
   "metadata": {},
   "outputs": [
    {
     "data": {
      "text/html": [
       "<div>\n",
       "<style scoped>\n",
       "    .dataframe tbody tr th:only-of-type {\n",
       "        vertical-align: middle;\n",
       "    }\n",
       "\n",
       "    .dataframe tbody tr th {\n",
       "        vertical-align: top;\n",
       "    }\n",
       "\n",
       "    .dataframe thead th {\n",
       "        text-align: right;\n",
       "    }\n",
       "</style>\n",
       "<table border=\"1\" class=\"dataframe\">\n",
       "  <thead>\n",
       "    <tr style=\"text-align: right;\">\n",
       "      <th></th>\n",
       "      <th>_id</th>\n",
       "      <th>bonusPointsEarned</th>\n",
       "      <th>bonusPointsEarnedReason</th>\n",
       "      <th>createDate</th>\n",
       "      <th>dateScanned</th>\n",
       "      <th>finishedDate</th>\n",
       "      <th>modifyDate</th>\n",
       "      <th>pointsAwardedDate</th>\n",
       "      <th>pointsEarned</th>\n",
       "      <th>purchaseDate</th>\n",
       "      <th>purchasedItemCount</th>\n",
       "      <th>rewardsReceiptItemList</th>\n",
       "      <th>rewardsReceiptStatus</th>\n",
       "      <th>totalSpent</th>\n",
       "      <th>userId</th>\n",
       "    </tr>\n",
       "  </thead>\n",
       "  <tbody>\n",
       "    <tr>\n",
       "      <th>0</th>\n",
       "      <td>{'$oid': '5ff1e1eb0a720f0523000575'}</td>\n",
       "      <td>500.0</td>\n",
       "      <td>Receipt number 2 completed, bonus point schedule DEFAULT (5cefdcacf3693e0b50e83a36)</td>\n",
       "      <td>{'$date': 1609687531000}</td>\n",
       "      <td>{'$date': 1609687531000}</td>\n",
       "      <td>{'$date': 1609687531000}</td>\n",
       "      <td>{'$date': 1609687536000}</td>\n",
       "      <td>{'$date': 1609687531000}</td>\n",
       "      <td>500.0</td>\n",
       "      <td>{'$date': 1609632000000}</td>\n",
       "      <td>5.0</td>\n",
       "      <td>[{'barcode': '4011', 'description': 'ITEM NOT FOUND', 'finalPrice': '26.00', 'itemPrice': '26.00', 'needsFetchReview': False, 'partnerItemId': '1', 'preventTargetGapPoints': True, 'quantityPurchased': 5, 'userFlaggedBarcode': '4011', 'userFlaggedNewItem': True, 'userFlaggedPrice': '26.00', 'userFlaggedQuantity': 5}]</td>\n",
       "      <td>FINISHED</td>\n",
       "      <td>26.0</td>\n",
       "      <td>5ff1e1eacfcf6c399c274ae6</td>\n",
       "    </tr>\n",
       "    <tr>\n",
       "      <th>1</th>\n",
       "      <td>{'$oid': '5ff1e1bb0a720f052300056b'}</td>\n",
       "      <td>150.0</td>\n",
       "      <td>Receipt number 5 completed, bonus point schedule DEFAULT (5cefdcacf3693e0b50e83a36)</td>\n",
       "      <td>{'$date': 1609687483000}</td>\n",
       "      <td>{'$date': 1609687483000}</td>\n",
       "      <td>{'$date': 1609687483000}</td>\n",
       "      <td>{'$date': 1609687488000}</td>\n",
       "      <td>{'$date': 1609687483000}</td>\n",
       "      <td>150.0</td>\n",
       "      <td>{'$date': 1609601083000}</td>\n",
       "      <td>2.0</td>\n",
       "      <td>[{'barcode': '4011', 'description': 'ITEM NOT FOUND', 'finalPrice': '1', 'itemPrice': '1', 'partnerItemId': '1', 'quantityPurchased': 1}, {'barcode': '028400642255', 'description': 'DORITOS TORTILLA CHIP SPICY SWEET CHILI REDUCED FAT BAG 1 OZ', 'finalPrice': '10.00', 'itemPrice': '10.00', 'needsFetchReview': True, 'needsFetchReviewReason': 'USER_FLAGGED', 'partnerItemId': '2', 'pointsNotAwardedReason': 'Action not allowed for user and CPG', 'pointsPayerId': '5332f5fbe4b03c9a25efd0ba', 'preventTargetGapPoints': True, 'quantityPurchased': 1, 'rewardsGroup': 'DORITOS SPICY SWEET CHILI SINGLE SERVE', 'rewardsProductPartnerId': '5332f5fbe4b03c9a25efd0ba', 'userFlaggedBarcode': '028400642255', 'userFlaggedDescription': 'DORITOS TORTILLA CHIP SPICY SWEET CHILI REDUCED FAT BAG 1 OZ', 'userFlaggedNewItem': True, 'userFlaggedPrice': '10.00', 'userFlaggedQuantity': 1}]</td>\n",
       "      <td>FINISHED</td>\n",
       "      <td>11.0</td>\n",
       "      <td>5ff1e194b6a9d73a3a9f1052</td>\n",
       "    </tr>\n",
       "    <tr>\n",
       "      <th>2</th>\n",
       "      <td>{'$oid': '5ff1e1f10a720f052300057a'}</td>\n",
       "      <td>5.0</td>\n",
       "      <td>All-receipts receipt bonus</td>\n",
       "      <td>{'$date': 1609687537000}</td>\n",
       "      <td>{'$date': 1609687537000}</td>\n",
       "      <td>NaN</td>\n",
       "      <td>{'$date': 1609687542000}</td>\n",
       "      <td>NaN</td>\n",
       "      <td>5.0</td>\n",
       "      <td>{'$date': 1609632000000}</td>\n",
       "      <td>1.0</td>\n",
       "      <td>[{'needsFetchReview': False, 'partnerItemId': '1', 'preventTargetGapPoints': True, 'userFlaggedBarcode': '4011', 'userFlaggedNewItem': True, 'userFlaggedPrice': '26.00', 'userFlaggedQuantity': 3}]</td>\n",
       "      <td>REJECTED</td>\n",
       "      <td>10.0</td>\n",
       "      <td>5ff1e1f1cfcf6c399c274b0b</td>\n",
       "    </tr>\n",
       "    <tr>\n",
       "      <th>3</th>\n",
       "      <td>{'$oid': '5ff1e1ee0a7214ada100056f'}</td>\n",
       "      <td>5.0</td>\n",
       "      <td>All-receipts receipt bonus</td>\n",
       "      <td>{'$date': 1609687534000}</td>\n",
       "      <td>{'$date': 1609687534000}</td>\n",
       "      <td>{'$date': 1609687534000}</td>\n",
       "      <td>{'$date': 1609687539000}</td>\n",
       "      <td>{'$date': 1609687534000}</td>\n",
       "      <td>5.0</td>\n",
       "      <td>{'$date': 1609632000000}</td>\n",
       "      <td>4.0</td>\n",
       "      <td>[{'barcode': '4011', 'description': 'ITEM NOT FOUND', 'finalPrice': '28.00', 'itemPrice': '28.00', 'needsFetchReview': False, 'partnerItemId': '1', 'preventTargetGapPoints': True, 'quantityPurchased': 4, 'userFlaggedBarcode': '4011', 'userFlaggedNewItem': True, 'userFlaggedPrice': '28.00', 'userFlaggedQuantity': 4}]</td>\n",
       "      <td>FINISHED</td>\n",
       "      <td>28.0</td>\n",
       "      <td>5ff1e1eacfcf6c399c274ae6</td>\n",
       "    </tr>\n",
       "    <tr>\n",
       "      <th>4</th>\n",
       "      <td>{'$oid': '5ff1e1d20a7214ada1000561'}</td>\n",
       "      <td>5.0</td>\n",
       "      <td>All-receipts receipt bonus</td>\n",
       "      <td>{'$date': 1609687506000}</td>\n",
       "      <td>{'$date': 1609687506000}</td>\n",
       "      <td>{'$date': 1609687511000}</td>\n",
       "      <td>{'$date': 1609687511000}</td>\n",
       "      <td>{'$date': 1609687506000}</td>\n",
       "      <td>5.0</td>\n",
       "      <td>{'$date': 1609601106000}</td>\n",
       "      <td>2.0</td>\n",
       "      <td>[{'barcode': '4011', 'description': 'ITEM NOT FOUND', 'finalPrice': '1', 'itemPrice': '1', 'partnerItemId': '1', 'quantityPurchased': 1}, {'barcode': '1234', 'finalPrice': '2.56', 'itemPrice': '2.56', 'needsFetchReview': True, 'needsFetchReviewReason': 'USER_FLAGGED', 'partnerItemId': '2', 'preventTargetGapPoints': True, 'quantityPurchased': 3, 'userFlaggedBarcode': '1234', 'userFlaggedDescription': '', 'userFlaggedNewItem': True, 'userFlaggedPrice': '2.56', 'userFlaggedQuantity': 3}]</td>\n",
       "      <td>FINISHED</td>\n",
       "      <td>1.0</td>\n",
       "      <td>5ff1e194b6a9d73a3a9f1052</td>\n",
       "    </tr>\n",
       "  </tbody>\n",
       "</table>\n",
       "</div>"
      ],
      "text/plain": [
       "                                    _id  bonusPointsEarned  \\\n",
       "0  {'$oid': '5ff1e1eb0a720f0523000575'}              500.0   \n",
       "1  {'$oid': '5ff1e1bb0a720f052300056b'}              150.0   \n",
       "2  {'$oid': '5ff1e1f10a720f052300057a'}                5.0   \n",
       "3  {'$oid': '5ff1e1ee0a7214ada100056f'}                5.0   \n",
       "4  {'$oid': '5ff1e1d20a7214ada1000561'}                5.0   \n",
       "\n",
       "                                                               bonusPointsEarnedReason  \\\n",
       "0  Receipt number 2 completed, bonus point schedule DEFAULT (5cefdcacf3693e0b50e83a36)   \n",
       "1  Receipt number 5 completed, bonus point schedule DEFAULT (5cefdcacf3693e0b50e83a36)   \n",
       "2                                                           All-receipts receipt bonus   \n",
       "3                                                           All-receipts receipt bonus   \n",
       "4                                                           All-receipts receipt bonus   \n",
       "\n",
       "                 createDate               dateScanned  \\\n",
       "0  {'$date': 1609687531000}  {'$date': 1609687531000}   \n",
       "1  {'$date': 1609687483000}  {'$date': 1609687483000}   \n",
       "2  {'$date': 1609687537000}  {'$date': 1609687537000}   \n",
       "3  {'$date': 1609687534000}  {'$date': 1609687534000}   \n",
       "4  {'$date': 1609687506000}  {'$date': 1609687506000}   \n",
       "\n",
       "               finishedDate                modifyDate  \\\n",
       "0  {'$date': 1609687531000}  {'$date': 1609687536000}   \n",
       "1  {'$date': 1609687483000}  {'$date': 1609687488000}   \n",
       "2                       NaN  {'$date': 1609687542000}   \n",
       "3  {'$date': 1609687534000}  {'$date': 1609687539000}   \n",
       "4  {'$date': 1609687511000}  {'$date': 1609687511000}   \n",
       "\n",
       "          pointsAwardedDate  pointsEarned              purchaseDate  \\\n",
       "0  {'$date': 1609687531000}         500.0  {'$date': 1609632000000}   \n",
       "1  {'$date': 1609687483000}         150.0  {'$date': 1609601083000}   \n",
       "2                       NaN           5.0  {'$date': 1609632000000}   \n",
       "3  {'$date': 1609687534000}           5.0  {'$date': 1609632000000}   \n",
       "4  {'$date': 1609687506000}           5.0  {'$date': 1609601106000}   \n",
       "\n",
       "   purchasedItemCount  \\\n",
       "0                 5.0   \n",
       "1                 2.0   \n",
       "2                 1.0   \n",
       "3                 4.0   \n",
       "4                 2.0   \n",
       "\n",
       "                                                                                                                                                                                                                                                                                                                                                                                                                                                                                                                                                                                                                                                                                                                                                                                                                                                                                   rewardsReceiptItemList  \\\n",
       "0                                                                                                                                                                                                                                                                                                                                                                                                                                                                                                                                                                           [{'barcode': '4011', 'description': 'ITEM NOT FOUND', 'finalPrice': '26.00', 'itemPrice': '26.00', 'needsFetchReview': False, 'partnerItemId': '1', 'preventTargetGapPoints': True, 'quantityPurchased': 5, 'userFlaggedBarcode': '4011', 'userFlaggedNewItem': True, 'userFlaggedPrice': '26.00', 'userFlaggedQuantity': 5}]   \n",
       "1  [{'barcode': '4011', 'description': 'ITEM NOT FOUND', 'finalPrice': '1', 'itemPrice': '1', 'partnerItemId': '1', 'quantityPurchased': 1}, {'barcode': '028400642255', 'description': 'DORITOS TORTILLA CHIP SPICY SWEET CHILI REDUCED FAT BAG 1 OZ', 'finalPrice': '10.00', 'itemPrice': '10.00', 'needsFetchReview': True, 'needsFetchReviewReason': 'USER_FLAGGED', 'partnerItemId': '2', 'pointsNotAwardedReason': 'Action not allowed for user and CPG', 'pointsPayerId': '5332f5fbe4b03c9a25efd0ba', 'preventTargetGapPoints': True, 'quantityPurchased': 1, 'rewardsGroup': 'DORITOS SPICY SWEET CHILI SINGLE SERVE', 'rewardsProductPartnerId': '5332f5fbe4b03c9a25efd0ba', 'userFlaggedBarcode': '028400642255', 'userFlaggedDescription': 'DORITOS TORTILLA CHIP SPICY SWEET CHILI REDUCED FAT BAG 1 OZ', 'userFlaggedNewItem': True, 'userFlaggedPrice': '10.00', 'userFlaggedQuantity': 1}]   \n",
       "2                                                                                                                                                                                                                                                                                                                                                                                                                                                                                                                                                                                                                                                                                                    [{'needsFetchReview': False, 'partnerItemId': '1', 'preventTargetGapPoints': True, 'userFlaggedBarcode': '4011', 'userFlaggedNewItem': True, 'userFlaggedPrice': '26.00', 'userFlaggedQuantity': 3}]   \n",
       "3                                                                                                                                                                                                                                                                                                                                                                                                                                                                                                                                                                           [{'barcode': '4011', 'description': 'ITEM NOT FOUND', 'finalPrice': '28.00', 'itemPrice': '28.00', 'needsFetchReview': False, 'partnerItemId': '1', 'preventTargetGapPoints': True, 'quantityPurchased': 4, 'userFlaggedBarcode': '4011', 'userFlaggedNewItem': True, 'userFlaggedPrice': '28.00', 'userFlaggedQuantity': 4}]   \n",
       "4                                                                                                                                                                                                                                                                                                                                                                                               [{'barcode': '4011', 'description': 'ITEM NOT FOUND', 'finalPrice': '1', 'itemPrice': '1', 'partnerItemId': '1', 'quantityPurchased': 1}, {'barcode': '1234', 'finalPrice': '2.56', 'itemPrice': '2.56', 'needsFetchReview': True, 'needsFetchReviewReason': 'USER_FLAGGED', 'partnerItemId': '2', 'preventTargetGapPoints': True, 'quantityPurchased': 3, 'userFlaggedBarcode': '1234', 'userFlaggedDescription': '', 'userFlaggedNewItem': True, 'userFlaggedPrice': '2.56', 'userFlaggedQuantity': 3}]   \n",
       "\n",
       "  rewardsReceiptStatus  totalSpent                    userId  \n",
       "0             FINISHED        26.0  5ff1e1eacfcf6c399c274ae6  \n",
       "1             FINISHED        11.0  5ff1e194b6a9d73a3a9f1052  \n",
       "2             REJECTED        10.0  5ff1e1f1cfcf6c399c274b0b  \n",
       "3             FINISHED        28.0  5ff1e1eacfcf6c399c274ae6  \n",
       "4             FINISHED         1.0  5ff1e194b6a9d73a3a9f1052  "
      ]
     },
     "execution_count": 213,
     "metadata": {},
     "output_type": "execute_result"
    }
   ],
   "source": [
    "# read the data\n",
    "receipts_df= pd.read_json('receipts.json', lines= True,  orient='columns')\n",
    "receipts_df.head(5) # display the top 5 rows and all the columns"
   ]
  },
  {
   "cell_type": "code",
   "execution_count": 214,
   "id": "3ec70814",
   "metadata": {},
   "outputs": [
    {
     "data": {
      "text/plain": [
       "(1119, 15)"
      ]
     },
     "execution_count": 214,
     "metadata": {},
     "output_type": "execute_result"
    }
   ],
   "source": [
    "# no of rows and columns in dataset\n",
    "receipts_df.shape"
   ]
  },
  {
   "cell_type": "markdown",
   "id": "063e8c89",
   "metadata": {},
   "source": [
    "# Checking for duplicates data"
   ]
  },
  {
   "cell_type": "code",
   "execution_count": 236,
   "id": "e744fbb9",
   "metadata": {},
   "outputs": [
    {
     "data": {
      "text/plain": [
       "1119"
      ]
     },
     "execution_count": 236,
     "metadata": {},
     "output_type": "execute_result"
    }
   ],
   "source": [
    "# _id is the primary key\n",
    "receipts_df['_id'].nunique()\n"
   ]
  },
  {
   "cell_type": "markdown",
   "id": "03f97769",
   "metadata": {},
   "source": [
    "The no of rows in the the dataframe is 1119 and the unique '_id' is also 1119.Hence, there are no duplicates in the dataset"
   ]
  },
  {
   "cell_type": "markdown",
   "id": "ac6222e6",
   "metadata": {},
   "source": [
    "# Checking for missing/ null data"
   ]
  },
  {
   "cell_type": "code",
   "execution_count": 215,
   "id": "a45e9fd6",
   "metadata": {},
   "outputs": [
    {
     "name": "stdout",
     "output_type": "stream",
     "text": [
      "_id                          0\n",
      "bonusPointsEarned          575\n",
      "bonusPointsEarnedReason    575\n",
      "createDate                   0\n",
      "dateScanned                  0\n",
      "finishedDate               551\n",
      "modifyDate                   0\n",
      "pointsAwardedDate          582\n",
      "pointsEarned               510\n",
      "purchaseDate               448\n",
      "purchasedItemCount         484\n",
      "rewardsReceiptItemList     440\n",
      "rewardsReceiptStatus         0\n",
      "totalSpent                 435\n",
      "userId                       0\n",
      "dtype: int64\n",
      "_id: 0.00% null values\n",
      "bonusPointsEarned: 51.39% null values\n",
      "bonusPointsEarnedReason: 51.39% null values\n",
      "createDate: 0.00% null values\n",
      "dateScanned: 0.00% null values\n",
      "finishedDate: 49.24% null values\n",
      "modifyDate: 0.00% null values\n",
      "pointsAwardedDate: 52.01% null values\n",
      "pointsEarned: 45.58% null values\n",
      "purchaseDate: 40.04% null values\n",
      "purchasedItemCount: 43.25% null values\n",
      "rewardsReceiptItemList: 39.32% null values\n",
      "rewardsReceiptStatus: 0.00% null values\n",
      "totalSpent: 38.87% null values\n",
      "userId: 0.00% null values\n"
     ]
    }
   ],
   "source": [
    "#check for nulls or missing data\n",
    "print(receipts_df.isnull().sum())\n",
    "#percentage of missing values for each column\n",
    "for col in receipts_df.columns:\n",
    "    null_percentage = receipts_df[col].isnull().sum() / len(receipts_df) * 100\n",
    "    print(f\"{col}: {null_percentage:.2f}% null values\")"
   ]
  },
  {
   "cell_type": "markdown",
   "id": "e4c4051c",
   "metadata": {},
   "source": [
    "Some of the columns have significant missing values:-\n",
    "\n",
    "\n",
    "\n",
    "rewardsReceiptItemList: 39.32% null values and totalSpent: 38.87% null values and purchasedItemCount: 43.25% null values:- This indicates that certain reciepts did not have items purchased and hence the spent amount and purchased items count could be missing because of that . The itmes missing in receipts is of majorn concern , it could be due to human error(data entry) or software error. It further leads to missing values in other columns.\n",
    "\n",
    "\n",
    "bonusPointsEarned: 51.39% null values and pointsEarned: 45.58% null values-  bonus points earned column has more than 50% of null values and points earned column has 46% of missing values. This can indicate that certain reciepts did not get or earn bonus points or have not been noted/enetered due to human errors. This is of considerable concern.\n",
    "\n",
    "finishedDate: 49.24% null values:- The finished date column has a lot of missing values and it does not help in identifying when the recipets were processed.\n",
    "\n",
    "The missing data can be handled by dropping the values, replacing with mean/median or data imputation to perform further analysis."
   ]
  },
  {
   "cell_type": "code",
   "execution_count": 216,
   "id": "af7f74ec",
   "metadata": {},
   "outputs": [],
   "source": [
    "# cleaning and formating the data within each column\n",
    "receipts_df['_id'] = receipts_df['_id'].apply(lambda x: x['$oid']if isinstance(x, dict) else x)\n",
    "receipts_df['createDate'] = receipts_df['createDate'].apply(lambda x: x['$date']if isinstance(x, dict) else x)\n",
    "receipts_df['dateScanned'] = receipts_df['dateScanned'].apply(lambda x: x['$date'] if isinstance(x, dict) else x)\n",
    "receipts_df['finishedDate'] = receipts_df['finishedDate'].apply(lambda x: x['$date']if isinstance(x, dict) else x)\n",
    "receipts_df['modifyDate'] = receipts_df['modifyDate'].apply(lambda x: x['$date'] if isinstance(x, dict) else x)\n",
    "receipts_df['pointsAwardedDate'] = receipts_df['pointsAwardedDate'].apply(lambda x: x['$date']if isinstance(x, dict) else x)\n",
    "receipts_df['purchaseDate'] = receipts_df['purchaseDate'].apply(lambda x: x['$date'] if isinstance(x, dict) else x)\n",
    "\n"
   ]
  },
  {
   "cell_type": "code",
   "execution_count": 217,
   "id": "09f05776",
   "metadata": {},
   "outputs": [
    {
     "data": {
      "text/html": [
       "<div>\n",
       "<style scoped>\n",
       "    .dataframe tbody tr th:only-of-type {\n",
       "        vertical-align: middle;\n",
       "    }\n",
       "\n",
       "    .dataframe tbody tr th {\n",
       "        vertical-align: top;\n",
       "    }\n",
       "\n",
       "    .dataframe thead th {\n",
       "        text-align: right;\n",
       "    }\n",
       "</style>\n",
       "<table border=\"1\" class=\"dataframe\">\n",
       "  <thead>\n",
       "    <tr style=\"text-align: right;\">\n",
       "      <th></th>\n",
       "      <th>_id</th>\n",
       "      <th>bonusPointsEarned</th>\n",
       "      <th>bonusPointsEarnedReason</th>\n",
       "      <th>createDate</th>\n",
       "      <th>dateScanned</th>\n",
       "      <th>finishedDate</th>\n",
       "      <th>modifyDate</th>\n",
       "      <th>pointsAwardedDate</th>\n",
       "      <th>pointsEarned</th>\n",
       "      <th>purchaseDate</th>\n",
       "      <th>purchasedItemCount</th>\n",
       "      <th>rewardsReceiptItemList</th>\n",
       "      <th>rewardsReceiptStatus</th>\n",
       "      <th>totalSpent</th>\n",
       "      <th>userId</th>\n",
       "    </tr>\n",
       "  </thead>\n",
       "  <tbody>\n",
       "    <tr>\n",
       "      <th>0</th>\n",
       "      <td>5ff1e1eb0a720f0523000575</td>\n",
       "      <td>500.0</td>\n",
       "      <td>Receipt number 2 completed, bonus point schedule DEFAULT (5cefdcacf3693e0b50e83a36)</td>\n",
       "      <td>1609687531000</td>\n",
       "      <td>1609687531000</td>\n",
       "      <td>1.609688e+12</td>\n",
       "      <td>1609687536000</td>\n",
       "      <td>1.609688e+12</td>\n",
       "      <td>500.0</td>\n",
       "      <td>1.609632e+12</td>\n",
       "      <td>5.0</td>\n",
       "      <td>[{'barcode': '4011', 'description': 'ITEM NOT FOUND', 'finalPrice': '26.00', 'itemPrice': '26.00', 'needsFetchReview': False, 'partnerItemId': '1', 'preventTargetGapPoints': True, 'quantityPurchased': 5, 'userFlaggedBarcode': '4011', 'userFlaggedNewItem': True, 'userFlaggedPrice': '26.00', 'userFlaggedQuantity': 5}]</td>\n",
       "      <td>FINISHED</td>\n",
       "      <td>26.0</td>\n",
       "      <td>5ff1e1eacfcf6c399c274ae6</td>\n",
       "    </tr>\n",
       "    <tr>\n",
       "      <th>1</th>\n",
       "      <td>5ff1e1bb0a720f052300056b</td>\n",
       "      <td>150.0</td>\n",
       "      <td>Receipt number 5 completed, bonus point schedule DEFAULT (5cefdcacf3693e0b50e83a36)</td>\n",
       "      <td>1609687483000</td>\n",
       "      <td>1609687483000</td>\n",
       "      <td>1.609687e+12</td>\n",
       "      <td>1609687488000</td>\n",
       "      <td>1.609687e+12</td>\n",
       "      <td>150.0</td>\n",
       "      <td>1.609601e+12</td>\n",
       "      <td>2.0</td>\n",
       "      <td>[{'barcode': '4011', 'description': 'ITEM NOT FOUND', 'finalPrice': '1', 'itemPrice': '1', 'partnerItemId': '1', 'quantityPurchased': 1}, {'barcode': '028400642255', 'description': 'DORITOS TORTILLA CHIP SPICY SWEET CHILI REDUCED FAT BAG 1 OZ', 'finalPrice': '10.00', 'itemPrice': '10.00', 'needsFetchReview': True, 'needsFetchReviewReason': 'USER_FLAGGED', 'partnerItemId': '2', 'pointsNotAwardedReason': 'Action not allowed for user and CPG', 'pointsPayerId': '5332f5fbe4b03c9a25efd0ba', 'preventTargetGapPoints': True, 'quantityPurchased': 1, 'rewardsGroup': 'DORITOS SPICY SWEET CHILI SINGLE SERVE', 'rewardsProductPartnerId': '5332f5fbe4b03c9a25efd0ba', 'userFlaggedBarcode': '028400642255', 'userFlaggedDescription': 'DORITOS TORTILLA CHIP SPICY SWEET CHILI REDUCED FAT BAG 1 OZ', 'userFlaggedNewItem': True, 'userFlaggedPrice': '10.00', 'userFlaggedQuantity': 1}]</td>\n",
       "      <td>FINISHED</td>\n",
       "      <td>11.0</td>\n",
       "      <td>5ff1e194b6a9d73a3a9f1052</td>\n",
       "    </tr>\n",
       "    <tr>\n",
       "      <th>2</th>\n",
       "      <td>5ff1e1f10a720f052300057a</td>\n",
       "      <td>5.0</td>\n",
       "      <td>All-receipts receipt bonus</td>\n",
       "      <td>1609687537000</td>\n",
       "      <td>1609687537000</td>\n",
       "      <td>NaN</td>\n",
       "      <td>1609687542000</td>\n",
       "      <td>NaN</td>\n",
       "      <td>5.0</td>\n",
       "      <td>1.609632e+12</td>\n",
       "      <td>1.0</td>\n",
       "      <td>[{'needsFetchReview': False, 'partnerItemId': '1', 'preventTargetGapPoints': True, 'userFlaggedBarcode': '4011', 'userFlaggedNewItem': True, 'userFlaggedPrice': '26.00', 'userFlaggedQuantity': 3}]</td>\n",
       "      <td>REJECTED</td>\n",
       "      <td>10.0</td>\n",
       "      <td>5ff1e1f1cfcf6c399c274b0b</td>\n",
       "    </tr>\n",
       "    <tr>\n",
       "      <th>3</th>\n",
       "      <td>5ff1e1ee0a7214ada100056f</td>\n",
       "      <td>5.0</td>\n",
       "      <td>All-receipts receipt bonus</td>\n",
       "      <td>1609687534000</td>\n",
       "      <td>1609687534000</td>\n",
       "      <td>1.609688e+12</td>\n",
       "      <td>1609687539000</td>\n",
       "      <td>1.609688e+12</td>\n",
       "      <td>5.0</td>\n",
       "      <td>1.609632e+12</td>\n",
       "      <td>4.0</td>\n",
       "      <td>[{'barcode': '4011', 'description': 'ITEM NOT FOUND', 'finalPrice': '28.00', 'itemPrice': '28.00', 'needsFetchReview': False, 'partnerItemId': '1', 'preventTargetGapPoints': True, 'quantityPurchased': 4, 'userFlaggedBarcode': '4011', 'userFlaggedNewItem': True, 'userFlaggedPrice': '28.00', 'userFlaggedQuantity': 4}]</td>\n",
       "      <td>FINISHED</td>\n",
       "      <td>28.0</td>\n",
       "      <td>5ff1e1eacfcf6c399c274ae6</td>\n",
       "    </tr>\n",
       "    <tr>\n",
       "      <th>4</th>\n",
       "      <td>5ff1e1d20a7214ada1000561</td>\n",
       "      <td>5.0</td>\n",
       "      <td>All-receipts receipt bonus</td>\n",
       "      <td>1609687506000</td>\n",
       "      <td>1609687506000</td>\n",
       "      <td>1.609688e+12</td>\n",
       "      <td>1609687511000</td>\n",
       "      <td>1.609688e+12</td>\n",
       "      <td>5.0</td>\n",
       "      <td>1.609601e+12</td>\n",
       "      <td>2.0</td>\n",
       "      <td>[{'barcode': '4011', 'description': 'ITEM NOT FOUND', 'finalPrice': '1', 'itemPrice': '1', 'partnerItemId': '1', 'quantityPurchased': 1}, {'barcode': '1234', 'finalPrice': '2.56', 'itemPrice': '2.56', 'needsFetchReview': True, 'needsFetchReviewReason': 'USER_FLAGGED', 'partnerItemId': '2', 'preventTargetGapPoints': True, 'quantityPurchased': 3, 'userFlaggedBarcode': '1234', 'userFlaggedDescription': '', 'userFlaggedNewItem': True, 'userFlaggedPrice': '2.56', 'userFlaggedQuantity': 3}]</td>\n",
       "      <td>FINISHED</td>\n",
       "      <td>1.0</td>\n",
       "      <td>5ff1e194b6a9d73a3a9f1052</td>\n",
       "    </tr>\n",
       "  </tbody>\n",
       "</table>\n",
       "</div>"
      ],
      "text/plain": [
       "                        _id  bonusPointsEarned  \\\n",
       "0  5ff1e1eb0a720f0523000575              500.0   \n",
       "1  5ff1e1bb0a720f052300056b              150.0   \n",
       "2  5ff1e1f10a720f052300057a                5.0   \n",
       "3  5ff1e1ee0a7214ada100056f                5.0   \n",
       "4  5ff1e1d20a7214ada1000561                5.0   \n",
       "\n",
       "                                                               bonusPointsEarnedReason  \\\n",
       "0  Receipt number 2 completed, bonus point schedule DEFAULT (5cefdcacf3693e0b50e83a36)   \n",
       "1  Receipt number 5 completed, bonus point schedule DEFAULT (5cefdcacf3693e0b50e83a36)   \n",
       "2                                                           All-receipts receipt bonus   \n",
       "3                                                           All-receipts receipt bonus   \n",
       "4                                                           All-receipts receipt bonus   \n",
       "\n",
       "      createDate    dateScanned  finishedDate     modifyDate  \\\n",
       "0  1609687531000  1609687531000  1.609688e+12  1609687536000   \n",
       "1  1609687483000  1609687483000  1.609687e+12  1609687488000   \n",
       "2  1609687537000  1609687537000           NaN  1609687542000   \n",
       "3  1609687534000  1609687534000  1.609688e+12  1609687539000   \n",
       "4  1609687506000  1609687506000  1.609688e+12  1609687511000   \n",
       "\n",
       "   pointsAwardedDate  pointsEarned  purchaseDate  purchasedItemCount  \\\n",
       "0       1.609688e+12         500.0  1.609632e+12                 5.0   \n",
       "1       1.609687e+12         150.0  1.609601e+12                 2.0   \n",
       "2                NaN           5.0  1.609632e+12                 1.0   \n",
       "3       1.609688e+12           5.0  1.609632e+12                 4.0   \n",
       "4       1.609688e+12           5.0  1.609601e+12                 2.0   \n",
       "\n",
       "                                                                                                                                                                                                                                                                                                                                                                                                                                                                                                                                                                                                                                                                                                                                                                                                                                                                                   rewardsReceiptItemList  \\\n",
       "0                                                                                                                                                                                                                                                                                                                                                                                                                                                                                                                                                                           [{'barcode': '4011', 'description': 'ITEM NOT FOUND', 'finalPrice': '26.00', 'itemPrice': '26.00', 'needsFetchReview': False, 'partnerItemId': '1', 'preventTargetGapPoints': True, 'quantityPurchased': 5, 'userFlaggedBarcode': '4011', 'userFlaggedNewItem': True, 'userFlaggedPrice': '26.00', 'userFlaggedQuantity': 5}]   \n",
       "1  [{'barcode': '4011', 'description': 'ITEM NOT FOUND', 'finalPrice': '1', 'itemPrice': '1', 'partnerItemId': '1', 'quantityPurchased': 1}, {'barcode': '028400642255', 'description': 'DORITOS TORTILLA CHIP SPICY SWEET CHILI REDUCED FAT BAG 1 OZ', 'finalPrice': '10.00', 'itemPrice': '10.00', 'needsFetchReview': True, 'needsFetchReviewReason': 'USER_FLAGGED', 'partnerItemId': '2', 'pointsNotAwardedReason': 'Action not allowed for user and CPG', 'pointsPayerId': '5332f5fbe4b03c9a25efd0ba', 'preventTargetGapPoints': True, 'quantityPurchased': 1, 'rewardsGroup': 'DORITOS SPICY SWEET CHILI SINGLE SERVE', 'rewardsProductPartnerId': '5332f5fbe4b03c9a25efd0ba', 'userFlaggedBarcode': '028400642255', 'userFlaggedDescription': 'DORITOS TORTILLA CHIP SPICY SWEET CHILI REDUCED FAT BAG 1 OZ', 'userFlaggedNewItem': True, 'userFlaggedPrice': '10.00', 'userFlaggedQuantity': 1}]   \n",
       "2                                                                                                                                                                                                                                                                                                                                                                                                                                                                                                                                                                                                                                                                                                    [{'needsFetchReview': False, 'partnerItemId': '1', 'preventTargetGapPoints': True, 'userFlaggedBarcode': '4011', 'userFlaggedNewItem': True, 'userFlaggedPrice': '26.00', 'userFlaggedQuantity': 3}]   \n",
       "3                                                                                                                                                                                                                                                                                                                                                                                                                                                                                                                                                                           [{'barcode': '4011', 'description': 'ITEM NOT FOUND', 'finalPrice': '28.00', 'itemPrice': '28.00', 'needsFetchReview': False, 'partnerItemId': '1', 'preventTargetGapPoints': True, 'quantityPurchased': 4, 'userFlaggedBarcode': '4011', 'userFlaggedNewItem': True, 'userFlaggedPrice': '28.00', 'userFlaggedQuantity': 4}]   \n",
       "4                                                                                                                                                                                                                                                                                                                                                                                               [{'barcode': '4011', 'description': 'ITEM NOT FOUND', 'finalPrice': '1', 'itemPrice': '1', 'partnerItemId': '1', 'quantityPurchased': 1}, {'barcode': '1234', 'finalPrice': '2.56', 'itemPrice': '2.56', 'needsFetchReview': True, 'needsFetchReviewReason': 'USER_FLAGGED', 'partnerItemId': '2', 'preventTargetGapPoints': True, 'quantityPurchased': 3, 'userFlaggedBarcode': '1234', 'userFlaggedDescription': '', 'userFlaggedNewItem': True, 'userFlaggedPrice': '2.56', 'userFlaggedQuantity': 3}]   \n",
       "\n",
       "  rewardsReceiptStatus  totalSpent                    userId  \n",
       "0             FINISHED        26.0  5ff1e1eacfcf6c399c274ae6  \n",
       "1             FINISHED        11.0  5ff1e194b6a9d73a3a9f1052  \n",
       "2             REJECTED        10.0  5ff1e1f1cfcf6c399c274b0b  \n",
       "3             FINISHED        28.0  5ff1e1eacfcf6c399c274ae6  \n",
       "4             FINISHED         1.0  5ff1e194b6a9d73a3a9f1052  "
      ]
     },
     "execution_count": 217,
     "metadata": {},
     "output_type": "execute_result"
    }
   ],
   "source": [
    "receipts_df.head(5)"
   ]
  },
  {
   "cell_type": "code",
   "execution_count": 218,
   "id": "ddf012b0",
   "metadata": {},
   "outputs": [
    {
     "data": {
      "text/plain": [
       "1119"
      ]
     },
     "execution_count": 218,
     "metadata": {},
     "output_type": "execute_result"
    }
   ],
   "source": [
    "receipts_df['_id'].nunique()"
   ]
  },
  {
   "cell_type": "markdown",
   "id": "349e953e",
   "metadata": {},
   "source": [
    "# Data types of columns- Conversion of data types"
   ]
  },
  {
   "cell_type": "code",
   "execution_count": 219,
   "id": "e2b5d3be",
   "metadata": {},
   "outputs": [
    {
     "name": "stdout",
     "output_type": "stream",
     "text": [
      "<class 'pandas.core.frame.DataFrame'>\n",
      "RangeIndex: 1119 entries, 0 to 1118\n",
      "Data columns (total 15 columns):\n",
      " #   Column                   Non-Null Count  Dtype  \n",
      "---  ------                   --------------  -----  \n",
      " 0   _id                      1119 non-null   object \n",
      " 1   bonusPointsEarned        544 non-null    float64\n",
      " 2   bonusPointsEarnedReason  544 non-null    object \n",
      " 3   createDate               1119 non-null   int64  \n",
      " 4   dateScanned              1119 non-null   int64  \n",
      " 5   finishedDate             568 non-null    float64\n",
      " 6   modifyDate               1119 non-null   int64  \n",
      " 7   pointsAwardedDate        537 non-null    float64\n",
      " 8   pointsEarned             609 non-null    float64\n",
      " 9   purchaseDate             671 non-null    float64\n",
      " 10  purchasedItemCount       635 non-null    float64\n",
      " 11  rewardsReceiptItemList   679 non-null    object \n",
      " 12  rewardsReceiptStatus     1119 non-null   object \n",
      " 13  totalSpent               684 non-null    float64\n",
      " 14  userId                   1119 non-null   object \n",
      "dtypes: float64(7), int64(3), object(5)\n",
      "memory usage: 131.3+ KB\n",
      "None\n"
     ]
    }
   ],
   "source": [
    "#check the data types and non nulls count\n",
    "# It can be observed that the date data types are objects and not datetime\n",
    "print(receipts_df.info())"
   ]
  },
  {
   "cell_type": "code",
   "execution_count": 240,
   "id": "312a4d9e",
   "metadata": {
    "scrolled": false
   },
   "outputs": [],
   "source": [
    "# convert objects to datetime data types\n",
    "receipts_df[['createDate', 'dateScanned', 'finishedDate', 'pointsAwardedDate', 'purchaseDate', 'modifyDate']]=receipts_df[['createDate', 'dateScanned', 'finishedDate', 'pointsAwardedDate', 'purchaseDate', 'modifyDate']].applymap(lambda x: pd.to_datetime(x, unit='ms'))\n"
   ]
  },
  {
   "cell_type": "code",
   "execution_count": 221,
   "id": "b68d491e",
   "metadata": {},
   "outputs": [
    {
     "data": {
      "text/plain": [
       "_id                                object\n",
       "bonusPointsEarned                 float64\n",
       "bonusPointsEarnedReason            object\n",
       "createDate                 datetime64[ns]\n",
       "dateScanned                datetime64[ns]\n",
       "finishedDate               datetime64[ns]\n",
       "modifyDate                 datetime64[ns]\n",
       "pointsAwardedDate          datetime64[ns]\n",
       "pointsEarned                      float64\n",
       "purchaseDate               datetime64[ns]\n",
       "purchasedItemCount                float64\n",
       "rewardsReceiptItemList             object\n",
       "rewardsReceiptStatus               object\n",
       "totalSpent                        float64\n",
       "userId                             object\n",
       "dtype: object"
      ]
     },
     "execution_count": 221,
     "metadata": {},
     "output_type": "execute_result"
    }
   ],
   "source": [
    "receipts_df.dtypes"
   ]
  },
  {
   "cell_type": "markdown",
   "id": "121faeb6",
   "metadata": {},
   "source": [
    "# Numerical variables/ Continous variables\n"
   ]
  },
  {
   "cell_type": "code",
   "execution_count": 222,
   "id": "1a752960",
   "metadata": {},
   "outputs": [
    {
     "data": {
      "text/plain": [
       "['bonusPointsEarned', 'pointsEarned', 'purchasedItemCount', 'totalSpent']"
      ]
     },
     "execution_count": 222,
     "metadata": {},
     "output_type": "execute_result"
    }
   ],
   "source": [
    "#numerical variables in recipets dataframe\n",
    "num_vars = [var for var in receipts_df.columns if receipts_df[var].dtype == 'float64']\n",
    "num_vars"
   ]
  },
  {
   "cell_type": "code",
   "execution_count": 223,
   "id": "7ea22b3e",
   "metadata": {},
   "outputs": [
    {
     "data": {
      "text/html": [
       "<div>\n",
       "<style scoped>\n",
       "    .dataframe tbody tr th:only-of-type {\n",
       "        vertical-align: middle;\n",
       "    }\n",
       "\n",
       "    .dataframe tbody tr th {\n",
       "        vertical-align: top;\n",
       "    }\n",
       "\n",
       "    .dataframe thead th {\n",
       "        text-align: right;\n",
       "    }\n",
       "</style>\n",
       "<table border=\"1\" class=\"dataframe\">\n",
       "  <thead>\n",
       "    <tr style=\"text-align: right;\">\n",
       "      <th></th>\n",
       "      <th>bonusPointsEarned</th>\n",
       "      <th>pointsEarned</th>\n",
       "      <th>purchasedItemCount</th>\n",
       "      <th>totalSpent</th>\n",
       "    </tr>\n",
       "  </thead>\n",
       "  <tbody>\n",
       "    <tr>\n",
       "      <th>count</th>\n",
       "      <td>544.000000</td>\n",
       "      <td>609.000000</td>\n",
       "      <td>635.00000</td>\n",
       "      <td>684.000000</td>\n",
       "    </tr>\n",
       "    <tr>\n",
       "      <th>mean</th>\n",
       "      <td>238.893382</td>\n",
       "      <td>585.962890</td>\n",
       "      <td>14.75748</td>\n",
       "      <td>77.796857</td>\n",
       "    </tr>\n",
       "    <tr>\n",
       "      <th>std</th>\n",
       "      <td>299.091731</td>\n",
       "      <td>1357.166947</td>\n",
       "      <td>61.13424</td>\n",
       "      <td>347.110349</td>\n",
       "    </tr>\n",
       "    <tr>\n",
       "      <th>min</th>\n",
       "      <td>5.000000</td>\n",
       "      <td>0.000000</td>\n",
       "      <td>0.00000</td>\n",
       "      <td>0.000000</td>\n",
       "    </tr>\n",
       "    <tr>\n",
       "      <th>25%</th>\n",
       "      <td>5.000000</td>\n",
       "      <td>5.000000</td>\n",
       "      <td>1.00000</td>\n",
       "      <td>1.000000</td>\n",
       "    </tr>\n",
       "    <tr>\n",
       "      <th>50%</th>\n",
       "      <td>45.000000</td>\n",
       "      <td>150.000000</td>\n",
       "      <td>2.00000</td>\n",
       "      <td>18.200000</td>\n",
       "    </tr>\n",
       "    <tr>\n",
       "      <th>75%</th>\n",
       "      <td>500.000000</td>\n",
       "      <td>750.000000</td>\n",
       "      <td>5.00000</td>\n",
       "      <td>34.960000</td>\n",
       "    </tr>\n",
       "    <tr>\n",
       "      <th>max</th>\n",
       "      <td>750.000000</td>\n",
       "      <td>10199.800000</td>\n",
       "      <td>689.00000</td>\n",
       "      <td>4721.950000</td>\n",
       "    </tr>\n",
       "  </tbody>\n",
       "</table>\n",
       "</div>"
      ],
      "text/plain": [
       "       bonusPointsEarned  pointsEarned  purchasedItemCount   totalSpent\n",
       "count         544.000000    609.000000           635.00000   684.000000\n",
       "mean          238.893382    585.962890            14.75748    77.796857\n",
       "std           299.091731   1357.166947            61.13424   347.110349\n",
       "min             5.000000      0.000000             0.00000     0.000000\n",
       "25%             5.000000      5.000000             1.00000     1.000000\n",
       "50%            45.000000    150.000000             2.00000    18.200000\n",
       "75%           500.000000    750.000000             5.00000    34.960000\n",
       "max           750.000000  10199.800000           689.00000  4721.950000"
      ]
     },
     "execution_count": 223,
     "metadata": {},
     "output_type": "execute_result"
    }
   ],
   "source": [
    "# Summary statistics of numerical variables\n",
    "receipts_df.describe()"
   ]
  },
  {
   "cell_type": "markdown",
   "id": "fb382a7b",
   "metadata": {},
   "source": [
    "# Outliers detection"
   ]
  },
  {
   "cell_type": "code",
   "execution_count": 224,
   "id": "f6f62502",
   "metadata": {},
   "outputs": [
    {
     "data": {
      "image/png": "[encoded data removed]",
      "text/plain": [
       "<Figure size 432x288 with 1 Axes>"
      ]
     },
     "metadata": {
      "needs_background": "light"
     },
     "output_type": "display_data"
    },
    {
     "data": {
      "image/png": "[encoded data removed]",
      "text/plain": [
       "<Figure size 432x288 with 1 Axes>"
      ]
     },
     "metadata": {
      "needs_background": "light"
     },
     "output_type": "display_data"
    },
    {
     "data": {
      "image/png": "[encoded data removed]",
      "text/plain": [
       "<Figure size 432x288 with 1 Axes>"
      ]
     },
     "metadata": {
      "needs_background": "light"
     },
     "output_type": "display_data"
    },
    {
     "data": {
      "image/png": "[encoded data removed]",
      "text/plain": [
       "<Figure size 432x288 with 1 Axes>"
      ]
     },
     "metadata": {
      "needs_background": "light"
     },
     "output_type": "display_data"
    }
   ],
   "source": [
    "# outliers for numerical variables\n",
    "import seaborn as sns\n",
    "import matplotlib.pyplot as plt\n",
    "\n",
    "for column in receipts_df.columns:\n",
    "    if receipts_df[column].dtype != \"object\" and receipts_df[column].dtype != 'datetime64[ns]' :\n",
    "        sns.boxplot(y=receipts_df[column])\n",
    "        plt.show()\n",
    "\n"
   ]
  },
  {
   "cell_type": "markdown",
   "id": "c7be8f71",
   "metadata": {},
   "source": [
    "There are many outliers in the continous variables which could lead the data to be skewed.\n",
    "This indicates that necessary transformations like log, box-cox, square root transformations need to be performed."
   ]
  },
  {
   "cell_type": "markdown",
   "id": "9673c64b",
   "metadata": {},
   "source": [
    "# Categorical variables"
   ]
  },
  {
   "cell_type": "code",
   "execution_count": 225,
   "id": "39fa6a29",
   "metadata": {},
   "outputs": [
    {
     "data": {
      "text/plain": [
       "['_id',\n",
       " 'bonusPointsEarnedReason',\n",
       " 'rewardsReceiptItemList',\n",
       " 'rewardsReceiptStatus',\n",
       " 'userId']"
      ]
     },
     "execution_count": 225,
     "metadata": {},
     "output_type": "execute_result"
    }
   ],
   "source": [
    "#Categorical variables in recipets dataframe\n",
    "cat_vars = [var for var in receipts_df.columns if receipts_df[var].dtype == 'O']\n",
    "cat_vars"
   ]
  },
  {
   "cell_type": "code",
   "execution_count": 226,
   "id": "44f05699",
   "metadata": {},
   "outputs": [
    {
     "data": {
      "image/png": "[encoded data removed]",
      "text/plain": [
       "<Figure size 432x288 with 1 Axes>"
      ]
     },
     "metadata": {
      "needs_background": "light"
     },
     "output_type": "display_data"
    }
   ],
   "source": [
    "#Cardinality - checking the number of unique values in each categorical column\n",
    "\n",
    "import matplotlib.pyplot as plt\n",
    "\n",
    "# Filter categorical columns without lists\n",
    "cat_vars_no_lists = [column for column in receipts_df[cat_vars].columns if not receipts_df[column].apply(lambda x: isinstance(x, list)).any()]\n",
    "\n",
    "chart = receipts_df[cat_vars_no_lists].nunique().sort_values(ascending=False).plot.barh()\n",
    "\n",
    "for i in chart.patches:\n",
    "    plt.text(i.get_width()+0.1, i.get_y()+0.1, str(round(i.get_width(), 2)))\n",
    "\n",
    "plt.show()\n"
   ]
  },
  {
   "cell_type": "markdown",
   "id": "35050ea9",
   "metadata": {},
   "source": [
    "Caridnality suggests that only user ID has lot of unqiye values compared to other variables"
   ]
  },
  {
   "cell_type": "markdown",
   "id": "3fb9e92e",
   "metadata": {},
   "source": [
    "# The data quality issues in receipts data sets are\n",
    "# 1) Missing values/ null values\n",
    "# 2) Outliers need to be handled\n",
    "# 3) Cardinality issues- less unique values\n",
    "# 4) Data type of columns needed to be handled\n",
    "# 5) The data has a nested json column which needs to be exracted so that the data can be merged/joined with other tables/data."
   ]
  },
  {
   "cell_type": "markdown",
   "id": "98c660c8",
   "metadata": {},
   "source": [
    "# Users Data set"
   ]
  },
  {
   "cell_type": "code",
   "execution_count": 250,
   "id": "ea9dd4cd",
   "metadata": {},
   "outputs": [
    {
     "data": {
      "text/html": [
       "<div>\n",
       "<style scoped>\n",
       "    .dataframe tbody tr th:only-of-type {\n",
       "        vertical-align: middle;\n",
       "    }\n",
       "\n",
       "    .dataframe tbody tr th {\n",
       "        vertical-align: top;\n",
       "    }\n",
       "\n",
       "    .dataframe thead th {\n",
       "        text-align: right;\n",
       "    }\n",
       "</style>\n",
       "<table border=\"1\" class=\"dataframe\">\n",
       "  <thead>\n",
       "    <tr style=\"text-align: right;\">\n",
       "      <th></th>\n",
       "      <th>_id</th>\n",
       "      <th>active</th>\n",
       "      <th>createdDate</th>\n",
       "      <th>lastLogin</th>\n",
       "      <th>role</th>\n",
       "      <th>signUpSource</th>\n",
       "      <th>state</th>\n",
       "    </tr>\n",
       "  </thead>\n",
       "  <tbody>\n",
       "    <tr>\n",
       "      <th>0</th>\n",
       "      <td>{'$oid': '5ff1e194b6a9d73a3a9f1052'}</td>\n",
       "      <td>True</td>\n",
       "      <td>{'$date': 1609687444800}</td>\n",
       "      <td>{'$date': 1609687537858}</td>\n",
       "      <td>consumer</td>\n",
       "      <td>Email</td>\n",
       "      <td>WI</td>\n",
       "    </tr>\n",
       "    <tr>\n",
       "      <th>1</th>\n",
       "      <td>{'$oid': '5ff1e194b6a9d73a3a9f1052'}</td>\n",
       "      <td>True</td>\n",
       "      <td>{'$date': 1609687444800}</td>\n",
       "      <td>{'$date': 1609687537858}</td>\n",
       "      <td>consumer</td>\n",
       "      <td>Email</td>\n",
       "      <td>WI</td>\n",
       "    </tr>\n",
       "    <tr>\n",
       "      <th>2</th>\n",
       "      <td>{'$oid': '5ff1e194b6a9d73a3a9f1052'}</td>\n",
       "      <td>True</td>\n",
       "      <td>{'$date': 1609687444800}</td>\n",
       "      <td>{'$date': 1609687537858}</td>\n",
       "      <td>consumer</td>\n",
       "      <td>Email</td>\n",
       "      <td>WI</td>\n",
       "    </tr>\n",
       "    <tr>\n",
       "      <th>3</th>\n",
       "      <td>{'$oid': '5ff1e1eacfcf6c399c274ae6'}</td>\n",
       "      <td>True</td>\n",
       "      <td>{'$date': 1609687530554}</td>\n",
       "      <td>{'$date': 1609687530597}</td>\n",
       "      <td>consumer</td>\n",
       "      <td>Email</td>\n",
       "      <td>WI</td>\n",
       "    </tr>\n",
       "    <tr>\n",
       "      <th>4</th>\n",
       "      <td>{'$oid': '5ff1e194b6a9d73a3a9f1052'}</td>\n",
       "      <td>True</td>\n",
       "      <td>{'$date': 1609687444800}</td>\n",
       "      <td>{'$date': 1609687537858}</td>\n",
       "      <td>consumer</td>\n",
       "      <td>Email</td>\n",
       "      <td>WI</td>\n",
       "    </tr>\n",
       "    <tr>\n",
       "      <th>...</th>\n",
       "      <td>...</td>\n",
       "      <td>...</td>\n",
       "      <td>...</td>\n",
       "      <td>...</td>\n",
       "      <td>...</td>\n",
       "      <td>...</td>\n",
       "      <td>...</td>\n",
       "    </tr>\n",
       "    <tr>\n",
       "      <th>490</th>\n",
       "      <td>{'$oid': '54943462e4b07e684157a532'}</td>\n",
       "      <td>True</td>\n",
       "      <td>{'$date': 1418998882381}</td>\n",
       "      <td>{'$date': 1614963143204}</td>\n",
       "      <td>fetch-staff</td>\n",
       "      <td>NaN</td>\n",
       "      <td>NaN</td>\n",
       "    </tr>\n",
       "    <tr>\n",
       "      <th>491</th>\n",
       "      <td>{'$oid': '54943462e4b07e684157a532'}</td>\n",
       "      <td>True</td>\n",
       "      <td>{'$date': 1418998882381}</td>\n",
       "      <td>{'$date': 1614963143204}</td>\n",
       "      <td>fetch-staff</td>\n",
       "      <td>NaN</td>\n",
       "      <td>NaN</td>\n",
       "    </tr>\n",
       "    <tr>\n",
       "      <th>492</th>\n",
       "      <td>{'$oid': '54943462e4b07e684157a532'}</td>\n",
       "      <td>True</td>\n",
       "      <td>{'$date': 1418998882381}</td>\n",
       "      <td>{'$date': 1614963143204}</td>\n",
       "      <td>fetch-staff</td>\n",
       "      <td>NaN</td>\n",
       "      <td>NaN</td>\n",
       "    </tr>\n",
       "    <tr>\n",
       "      <th>493</th>\n",
       "      <td>{'$oid': '54943462e4b07e684157a532'}</td>\n",
       "      <td>True</td>\n",
       "      <td>{'$date': 1418998882381}</td>\n",
       "      <td>{'$date': 1614963143204}</td>\n",
       "      <td>fetch-staff</td>\n",
       "      <td>NaN</td>\n",
       "      <td>NaN</td>\n",
       "    </tr>\n",
       "    <tr>\n",
       "      <th>494</th>\n",
       "      <td>{'$oid': '54943462e4b07e684157a532'}</td>\n",
       "      <td>True</td>\n",
       "      <td>{'$date': 1418998882381}</td>\n",
       "      <td>{'$date': 1614963143204}</td>\n",
       "      <td>fetch-staff</td>\n",
       "      <td>NaN</td>\n",
       "      <td>NaN</td>\n",
       "    </tr>\n",
       "  </tbody>\n",
       "</table>\n",
       "<p>495 rows × 7 columns</p>\n",
       "</div>"
      ],
      "text/plain": [
       "                                      _id  active               createdDate  \\\n",
       "0    {'$oid': '5ff1e194b6a9d73a3a9f1052'}    True  {'$date': 1609687444800}   \n",
       "1    {'$oid': '5ff1e194b6a9d73a3a9f1052'}    True  {'$date': 1609687444800}   \n",
       "2    {'$oid': '5ff1e194b6a9d73a3a9f1052'}    True  {'$date': 1609687444800}   \n",
       "3    {'$oid': '5ff1e1eacfcf6c399c274ae6'}    True  {'$date': 1609687530554}   \n",
       "4    {'$oid': '5ff1e194b6a9d73a3a9f1052'}    True  {'$date': 1609687444800}   \n",
       "..                                    ...     ...                       ...   \n",
       "490  {'$oid': '54943462e4b07e684157a532'}    True  {'$date': 1418998882381}   \n",
       "491  {'$oid': '54943462e4b07e684157a532'}    True  {'$date': 1418998882381}   \n",
       "492  {'$oid': '54943462e4b07e684157a532'}    True  {'$date': 1418998882381}   \n",
       "493  {'$oid': '54943462e4b07e684157a532'}    True  {'$date': 1418998882381}   \n",
       "494  {'$oid': '54943462e4b07e684157a532'}    True  {'$date': 1418998882381}   \n",
       "\n",
       "                    lastLogin         role signUpSource state  \n",
       "0    {'$date': 1609687537858}     consumer        Email    WI  \n",
       "1    {'$date': 1609687537858}     consumer        Email    WI  \n",
       "2    {'$date': 1609687537858}     consumer        Email    WI  \n",
       "3    {'$date': 1609687530597}     consumer        Email    WI  \n",
       "4    {'$date': 1609687537858}     consumer        Email    WI  \n",
       "..                        ...          ...          ...   ...  \n",
       "490  {'$date': 1614963143204}  fetch-staff          NaN   NaN  \n",
       "491  {'$date': 1614963143204}  fetch-staff          NaN   NaN  \n",
       "492  {'$date': 1614963143204}  fetch-staff          NaN   NaN  \n",
       "493  {'$date': 1614963143204}  fetch-staff          NaN   NaN  \n",
       "494  {'$date': 1614963143204}  fetch-staff          NaN   NaN  \n",
       "\n",
       "[495 rows x 7 columns]"
      ]
     },
     "execution_count": 250,
     "metadata": {},
     "output_type": "execute_result"
    }
   ],
   "source": [
    "users_df= pd.read_json('users.json', lines=True)\n",
    "users_df"
   ]
  },
  {
   "cell_type": "code",
   "execution_count": 251,
   "id": "f343e083",
   "metadata": {},
   "outputs": [],
   "source": [
    "# Remove dictionaries within each row\n",
    "users_df['_id'] = users_df['_id'].apply(lambda x: x['$oid']if isinstance(x, dict) else x)\n",
    "users_df['createdDate'] = users_df['createdDate'].apply(lambda x: x['$date']if isinstance(x, dict) else x)\n",
    "users_df['lastLogin'] = users_df['lastLogin'].apply(lambda x: x['$date'] if isinstance(x, dict) else x)\n",
    "\n"
   ]
  },
  {
   "cell_type": "code",
   "execution_count": 252,
   "id": "9de48a8d",
   "metadata": {},
   "outputs": [
    {
     "data": {
      "text/html": [
       "<div>\n",
       "<style scoped>\n",
       "    .dataframe tbody tr th:only-of-type {\n",
       "        vertical-align: middle;\n",
       "    }\n",
       "\n",
       "    .dataframe tbody tr th {\n",
       "        vertical-align: top;\n",
       "    }\n",
       "\n",
       "    .dataframe thead th {\n",
       "        text-align: right;\n",
       "    }\n",
       "</style>\n",
       "<table border=\"1\" class=\"dataframe\">\n",
       "  <thead>\n",
       "    <tr style=\"text-align: right;\">\n",
       "      <th></th>\n",
       "      <th>_id</th>\n",
       "      <th>active</th>\n",
       "      <th>createdDate</th>\n",
       "      <th>lastLogin</th>\n",
       "      <th>role</th>\n",
       "      <th>signUpSource</th>\n",
       "      <th>state</th>\n",
       "    </tr>\n",
       "  </thead>\n",
       "  <tbody>\n",
       "    <tr>\n",
       "      <th>0</th>\n",
       "      <td>5ff1e194b6a9d73a3a9f1052</td>\n",
       "      <td>True</td>\n",
       "      <td>1609687444800</td>\n",
       "      <td>1.609688e+12</td>\n",
       "      <td>consumer</td>\n",
       "      <td>Email</td>\n",
       "      <td>WI</td>\n",
       "    </tr>\n",
       "    <tr>\n",
       "      <th>1</th>\n",
       "      <td>5ff1e194b6a9d73a3a9f1052</td>\n",
       "      <td>True</td>\n",
       "      <td>1609687444800</td>\n",
       "      <td>1.609688e+12</td>\n",
       "      <td>consumer</td>\n",
       "      <td>Email</td>\n",
       "      <td>WI</td>\n",
       "    </tr>\n",
       "    <tr>\n",
       "      <th>2</th>\n",
       "      <td>5ff1e194b6a9d73a3a9f1052</td>\n",
       "      <td>True</td>\n",
       "      <td>1609687444800</td>\n",
       "      <td>1.609688e+12</td>\n",
       "      <td>consumer</td>\n",
       "      <td>Email</td>\n",
       "      <td>WI</td>\n",
       "    </tr>\n",
       "    <tr>\n",
       "      <th>3</th>\n",
       "      <td>5ff1e1eacfcf6c399c274ae6</td>\n",
       "      <td>True</td>\n",
       "      <td>1609687530554</td>\n",
       "      <td>1.609688e+12</td>\n",
       "      <td>consumer</td>\n",
       "      <td>Email</td>\n",
       "      <td>WI</td>\n",
       "    </tr>\n",
       "    <tr>\n",
       "      <th>4</th>\n",
       "      <td>5ff1e194b6a9d73a3a9f1052</td>\n",
       "      <td>True</td>\n",
       "      <td>1609687444800</td>\n",
       "      <td>1.609688e+12</td>\n",
       "      <td>consumer</td>\n",
       "      <td>Email</td>\n",
       "      <td>WI</td>\n",
       "    </tr>\n",
       "  </tbody>\n",
       "</table>\n",
       "</div>"
      ],
      "text/plain": [
       "                        _id  active    createdDate     lastLogin      role  \\\n",
       "0  5ff1e194b6a9d73a3a9f1052    True  1609687444800  1.609688e+12  consumer   \n",
       "1  5ff1e194b6a9d73a3a9f1052    True  1609687444800  1.609688e+12  consumer   \n",
       "2  5ff1e194b6a9d73a3a9f1052    True  1609687444800  1.609688e+12  consumer   \n",
       "3  5ff1e1eacfcf6c399c274ae6    True  1609687530554  1.609688e+12  consumer   \n",
       "4  5ff1e194b6a9d73a3a9f1052    True  1609687444800  1.609688e+12  consumer   \n",
       "\n",
       "  signUpSource state  \n",
       "0        Email    WI  \n",
       "1        Email    WI  \n",
       "2        Email    WI  \n",
       "3        Email    WI  \n",
       "4        Email    WI  "
      ]
     },
     "execution_count": 252,
     "metadata": {},
     "output_type": "execute_result"
    }
   ],
   "source": [
    "users_df1= users_df.copy()\n",
    "users_df1.head()"
   ]
  },
  {
   "cell_type": "code",
   "execution_count": 253,
   "id": "8ce60470",
   "metadata": {},
   "outputs": [
    {
     "data": {
      "text/plain": [
       "(495, 7)"
      ]
     },
     "execution_count": 253,
     "metadata": {},
     "output_type": "execute_result"
    }
   ],
   "source": [
    "users_df1.shape"
   ]
  },
  {
   "cell_type": "markdown",
   "id": "a551933d",
   "metadata": {},
   "source": [
    "# Checking for duplicates"
   ]
  },
  {
   "cell_type": "code",
   "execution_count": 254,
   "id": "cf63284d",
   "metadata": {},
   "outputs": [
    {
     "data": {
      "text/plain": [
       "212"
      ]
     },
     "execution_count": 254,
     "metadata": {},
     "output_type": "execute_result"
    }
   ],
   "source": [
    "users_df['_id'].nunique()"
   ]
  },
  {
   "cell_type": "markdown",
   "id": "0842141a",
   "metadata": {},
   "source": [
    "The unique id's are 212, Hence, The _id column has duplicates in the users table. This indicates there has been duplicate entry of users in the data. The duplicates have to be dropped. "
   ]
  },
  {
   "cell_type": "code",
   "execution_count": 258,
   "id": "01ff7855",
   "metadata": {},
   "outputs": [
    {
     "data": {
      "text/html": [
       "<div>\n",
       "<style scoped>\n",
       "    .dataframe tbody tr th:only-of-type {\n",
       "        vertical-align: middle;\n",
       "    }\n",
       "\n",
       "    .dataframe tbody tr th {\n",
       "        vertical-align: top;\n",
       "    }\n",
       "\n",
       "    .dataframe thead th {\n",
       "        text-align: right;\n",
       "    }\n",
       "</style>\n",
       "<table border=\"1\" class=\"dataframe\">\n",
       "  <thead>\n",
       "    <tr style=\"text-align: right;\">\n",
       "      <th></th>\n",
       "      <th>_id</th>\n",
       "      <th>active</th>\n",
       "      <th>createdDate</th>\n",
       "      <th>lastLogin</th>\n",
       "      <th>role</th>\n",
       "      <th>signUpSource</th>\n",
       "      <th>state</th>\n",
       "    </tr>\n",
       "  </thead>\n",
       "  <tbody>\n",
       "    <tr>\n",
       "      <th>0</th>\n",
       "      <td>5ff1e194b6a9d73a3a9f1052</td>\n",
       "      <td>True</td>\n",
       "      <td>1609687444800</td>\n",
       "      <td>1.609688e+12</td>\n",
       "      <td>consumer</td>\n",
       "      <td>Email</td>\n",
       "      <td>WI</td>\n",
       "    </tr>\n",
       "    <tr>\n",
       "      <th>3</th>\n",
       "      <td>5ff1e1eacfcf6c399c274ae6</td>\n",
       "      <td>True</td>\n",
       "      <td>1609687530554</td>\n",
       "      <td>1.609688e+12</td>\n",
       "      <td>consumer</td>\n",
       "      <td>Email</td>\n",
       "      <td>WI</td>\n",
       "    </tr>\n",
       "    <tr>\n",
       "      <th>6</th>\n",
       "      <td>5ff1e1e8cfcf6c399c274ad9</td>\n",
       "      <td>True</td>\n",
       "      <td>1609687528354</td>\n",
       "      <td>1.609688e+12</td>\n",
       "      <td>consumer</td>\n",
       "      <td>Email</td>\n",
       "      <td>WI</td>\n",
       "    </tr>\n",
       "    <tr>\n",
       "      <th>7</th>\n",
       "      <td>5ff1e1b7cfcf6c399c274a5a</td>\n",
       "      <td>True</td>\n",
       "      <td>1609687479626</td>\n",
       "      <td>1.609687e+12</td>\n",
       "      <td>consumer</td>\n",
       "      <td>Email</td>\n",
       "      <td>WI</td>\n",
       "    </tr>\n",
       "    <tr>\n",
       "      <th>9</th>\n",
       "      <td>5ff1e1f1cfcf6c399c274b0b</td>\n",
       "      <td>True</td>\n",
       "      <td>1609687537564</td>\n",
       "      <td>1.609688e+12</td>\n",
       "      <td>consumer</td>\n",
       "      <td>Email</td>\n",
       "      <td>WI</td>\n",
       "    </tr>\n",
       "    <tr>\n",
       "      <th>...</th>\n",
       "      <td>...</td>\n",
       "      <td>...</td>\n",
       "      <td>...</td>\n",
       "      <td>...</td>\n",
       "      <td>...</td>\n",
       "      <td>...</td>\n",
       "      <td>...</td>\n",
       "    </tr>\n",
       "    <tr>\n",
       "      <th>435</th>\n",
       "      <td>5fc961c3b8cfca11a077dd33</td>\n",
       "      <td>True</td>\n",
       "      <td>1607033283936</td>\n",
       "      <td>1.614379e+12</td>\n",
       "      <td>fetch-staff</td>\n",
       "      <td>Email</td>\n",
       "      <td>NH</td>\n",
       "    </tr>\n",
       "    <tr>\n",
       "      <th>455</th>\n",
       "      <td>5fa41775898c7a11a6bcef3e</td>\n",
       "      <td>True</td>\n",
       "      <td>1604589429396</td>\n",
       "      <td>1.614874e+12</td>\n",
       "      <td>fetch-staff</td>\n",
       "      <td>Email</td>\n",
       "      <td>NaN</td>\n",
       "    </tr>\n",
       "    <tr>\n",
       "      <th>456</th>\n",
       "      <td>5fa32b4d898c7a11a6bcebce</td>\n",
       "      <td>True</td>\n",
       "      <td>1604528973309</td>\n",
       "      <td>1.614843e+12</td>\n",
       "      <td>fetch-staff</td>\n",
       "      <td>Google</td>\n",
       "      <td>AL</td>\n",
       "    </tr>\n",
       "    <tr>\n",
       "      <th>462</th>\n",
       "      <td>5964eb07e4b03efd0c0f267b</td>\n",
       "      <td>True</td>\n",
       "      <td>1499785991771</td>\n",
       "      <td>1.614885e+12</td>\n",
       "      <td>fetch-staff</td>\n",
       "      <td>NaN</td>\n",
       "      <td>IL</td>\n",
       "    </tr>\n",
       "    <tr>\n",
       "      <th>475</th>\n",
       "      <td>54943462e4b07e684157a532</td>\n",
       "      <td>True</td>\n",
       "      <td>1418998882381</td>\n",
       "      <td>1.614963e+12</td>\n",
       "      <td>fetch-staff</td>\n",
       "      <td>NaN</td>\n",
       "      <td>NaN</td>\n",
       "    </tr>\n",
       "  </tbody>\n",
       "</table>\n",
       "<p>212 rows × 7 columns</p>\n",
       "</div>"
      ],
      "text/plain": [
       "                          _id  active    createdDate     lastLogin  \\\n",
       "0    5ff1e194b6a9d73a3a9f1052    True  1609687444800  1.609688e+12   \n",
       "3    5ff1e1eacfcf6c399c274ae6    True  1609687530554  1.609688e+12   \n",
       "6    5ff1e1e8cfcf6c399c274ad9    True  1609687528354  1.609688e+12   \n",
       "7    5ff1e1b7cfcf6c399c274a5a    True  1609687479626  1.609687e+12   \n",
       "9    5ff1e1f1cfcf6c399c274b0b    True  1609687537564  1.609688e+12   \n",
       "..                        ...     ...            ...           ...   \n",
       "435  5fc961c3b8cfca11a077dd33    True  1607033283936  1.614379e+12   \n",
       "455  5fa41775898c7a11a6bcef3e    True  1604589429396  1.614874e+12   \n",
       "456  5fa32b4d898c7a11a6bcebce    True  1604528973309  1.614843e+12   \n",
       "462  5964eb07e4b03efd0c0f267b    True  1499785991771  1.614885e+12   \n",
       "475  54943462e4b07e684157a532    True  1418998882381  1.614963e+12   \n",
       "\n",
       "            role signUpSource state  \n",
       "0       consumer        Email    WI  \n",
       "3       consumer        Email    WI  \n",
       "6       consumer        Email    WI  \n",
       "7       consumer        Email    WI  \n",
       "9       consumer        Email    WI  \n",
       "..           ...          ...   ...  \n",
       "435  fetch-staff        Email    NH  \n",
       "455  fetch-staff        Email   NaN  \n",
       "456  fetch-staff       Google    AL  \n",
       "462  fetch-staff          NaN    IL  \n",
       "475  fetch-staff          NaN   NaN  \n",
       "\n",
       "[212 rows x 7 columns]"
      ]
     },
     "execution_count": 258,
     "metadata": {},
     "output_type": "execute_result"
    }
   ],
   "source": [
    "# new dataframe with duplicates dropped\n",
    "users_df1.drop_duplicates()"
   ]
  },
  {
   "cell_type": "markdown",
   "id": "970ecf53",
   "metadata": {},
   "source": [
    "# Data types of columns- Conversion of data types"
   ]
  },
  {
   "cell_type": "code",
   "execution_count": 259,
   "id": "f2cf1e09",
   "metadata": {},
   "outputs": [
    {
     "data": {
      "text/plain": [
       "_id              object\n",
       "active             bool\n",
       "createdDate       int64\n",
       "lastLogin       float64\n",
       "role             object\n",
       "signUpSource     object\n",
       "state            object\n",
       "dtype: object"
      ]
     },
     "execution_count": 259,
     "metadata": {},
     "output_type": "execute_result"
    }
   ],
   "source": [
    "# the dates are object datatypes\n",
    "users_df1.dtypes"
   ]
  },
  {
   "cell_type": "code",
   "execution_count": 260,
   "id": "6302431b",
   "metadata": {},
   "outputs": [
    {
     "data": {
      "text/plain": [
       "_id                     object\n",
       "active                    bool\n",
       "createdDate     datetime64[ns]\n",
       "lastLogin       datetime64[ns]\n",
       "role                    object\n",
       "signUpSource            object\n",
       "state                   object\n",
       "dtype: object"
      ]
     },
     "execution_count": 260,
     "metadata": {},
     "output_type": "execute_result"
    }
   ],
   "source": [
    "# convert objects to datetime data types\n",
    "users_df[['createdDate', 'lastLogin']]=users_df[['createdDate', 'lastLogin']].applymap(lambda x: pd.to_datetime(x, unit='ms'))\n",
    "users_df.dtypes"
   ]
  },
  {
   "cell_type": "markdown",
   "id": "f89c9889",
   "metadata": {},
   "source": [
    "# Missing data "
   ]
  },
  {
   "cell_type": "code",
   "execution_count": 261,
   "id": "0af87ef1",
   "metadata": {},
   "outputs": [
    {
     "name": "stdout",
     "output_type": "stream",
     "text": [
      "_id              0\n",
      "active           0\n",
      "createdDate      0\n",
      "lastLogin       62\n",
      "role             0\n",
      "signUpSource    48\n",
      "state           56\n",
      "dtype: int64\n",
      "_id: 0.00% null values\n",
      "active: 0.00% null values\n",
      "createdDate: 0.00% null values\n",
      "lastLogin: 12.53% null values\n",
      "role: 0.00% null values\n",
      "signUpSource: 9.70% null values\n",
      "state: 11.31% null values\n"
     ]
    }
   ],
   "source": [
    "#check for nulls or missing data\n",
    "print(users_df.isnull().sum())\n",
    "#percentage of missing values for each column\n",
    "for col in users_df.columns:\n",
    "    null_percentage = users_df[col].isnull().sum() / len(users_df) * 100\n",
    "    print(f\"{col}: {null_percentage:.2f}% null values\")"
   ]
  },
  {
   "cell_type": "markdown",
   "id": "f79e8595",
   "metadata": {},
   "source": [
    "The Last_login column and state column have null values. \n",
    "This is of a major concern as some the users last login date in the app has not been captured. \n",
    "This justifies that the state of the user being active has not been captured.\n",
    "This is of a concern as it will affect in identifying the active users of the app and user footprints and user retention is affected deeply."
   ]
  },
  {
   "cell_type": "markdown",
   "id": "1547d5c3",
   "metadata": {},
   "source": [
    "# The data quality issues in users \n",
    "# 1) Almost 50% of the data is redundant. \n",
    "# 2) The data types needed to be converted suitably.\n",
    "# 3) Missing users activity tracking details can affect major business metrics in the data"
   ]
  },
  {
   "cell_type": "markdown",
   "id": "736bde37",
   "metadata": {},
   "source": [
    "# Brands data"
   ]
  },
  {
   "cell_type": "code",
   "execution_count": 262,
   "id": "84159a5f",
   "metadata": {},
   "outputs": [
    {
     "data": {
      "text/html": [
       "<div>\n",
       "<style scoped>\n",
       "    .dataframe tbody tr th:only-of-type {\n",
       "        vertical-align: middle;\n",
       "    }\n",
       "\n",
       "    .dataframe tbody tr th {\n",
       "        vertical-align: top;\n",
       "    }\n",
       "\n",
       "    .dataframe thead th {\n",
       "        text-align: right;\n",
       "    }\n",
       "</style>\n",
       "<table border=\"1\" class=\"dataframe\">\n",
       "  <thead>\n",
       "    <tr style=\"text-align: right;\">\n",
       "      <th></th>\n",
       "      <th>_id</th>\n",
       "      <th>barcode</th>\n",
       "      <th>category</th>\n",
       "      <th>categoryCode</th>\n",
       "      <th>cpg</th>\n",
       "      <th>name</th>\n",
       "      <th>topBrand</th>\n",
       "      <th>brandCode</th>\n",
       "    </tr>\n",
       "  </thead>\n",
       "  <tbody>\n",
       "    <tr>\n",
       "      <th>0</th>\n",
       "      <td>{'$oid': '601ac115be37ce2ead437551'}</td>\n",
       "      <td>511111019862</td>\n",
       "      <td>Baking</td>\n",
       "      <td>BAKING</td>\n",
       "      <td>{'$id': {'$oid': '601ac114be37ce2ead437550'}, '$ref': 'Cogs'}</td>\n",
       "      <td>test brand @1612366101024</td>\n",
       "      <td>0.0</td>\n",
       "      <td>NaN</td>\n",
       "    </tr>\n",
       "    <tr>\n",
       "      <th>1</th>\n",
       "      <td>{'$oid': '601c5460be37ce2ead43755f'}</td>\n",
       "      <td>511111519928</td>\n",
       "      <td>Beverages</td>\n",
       "      <td>BEVERAGES</td>\n",
       "      <td>{'$id': {'$oid': '5332f5fbe4b03c9a25efd0ba'}, '$ref': 'Cogs'}</td>\n",
       "      <td>Starbucks</td>\n",
       "      <td>0.0</td>\n",
       "      <td>STARBUCKS</td>\n",
       "    </tr>\n",
       "    <tr>\n",
       "      <th>2</th>\n",
       "      <td>{'$oid': '601ac142be37ce2ead43755d'}</td>\n",
       "      <td>511111819905</td>\n",
       "      <td>Baking</td>\n",
       "      <td>BAKING</td>\n",
       "      <td>{'$id': {'$oid': '601ac142be37ce2ead437559'}, '$ref': 'Cogs'}</td>\n",
       "      <td>test brand @1612366146176</td>\n",
       "      <td>0.0</td>\n",
       "      <td>TEST BRANDCODE @1612366146176</td>\n",
       "    </tr>\n",
       "    <tr>\n",
       "      <th>3</th>\n",
       "      <td>{'$oid': '601ac142be37ce2ead43755a'}</td>\n",
       "      <td>511111519874</td>\n",
       "      <td>Baking</td>\n",
       "      <td>BAKING</td>\n",
       "      <td>{'$id': {'$oid': '601ac142be37ce2ead437559'}, '$ref': 'Cogs'}</td>\n",
       "      <td>test brand @1612366146051</td>\n",
       "      <td>0.0</td>\n",
       "      <td>TEST BRANDCODE @1612366146051</td>\n",
       "    </tr>\n",
       "    <tr>\n",
       "      <th>4</th>\n",
       "      <td>{'$oid': '601ac142be37ce2ead43755e'}</td>\n",
       "      <td>511111319917</td>\n",
       "      <td>Candy &amp; Sweets</td>\n",
       "      <td>CANDY_AND_SWEETS</td>\n",
       "      <td>{'$id': {'$oid': '5332fa12e4b03c9a25efd1e7'}, '$ref': 'Cogs'}</td>\n",
       "      <td>test brand @1612366146827</td>\n",
       "      <td>0.0</td>\n",
       "      <td>TEST BRANDCODE @1612366146827</td>\n",
       "    </tr>\n",
       "    <tr>\n",
       "      <th>5</th>\n",
       "      <td>{'$oid': '601ac142be37ce2ead43755b'}</td>\n",
       "      <td>511111719885</td>\n",
       "      <td>Baking</td>\n",
       "      <td>BAKING</td>\n",
       "      <td>{'$id': {'$oid': '601ac142be37ce2ead437559'}, '$ref': 'Cogs'}</td>\n",
       "      <td>test brand @1612366146091</td>\n",
       "      <td>0.0</td>\n",
       "      <td>TEST BRANDCODE @1612366146091</td>\n",
       "    </tr>\n",
       "    <tr>\n",
       "      <th>6</th>\n",
       "      <td>{'$oid': '601ac142be37ce2ead43755c'}</td>\n",
       "      <td>511111219897</td>\n",
       "      <td>Baking</td>\n",
       "      <td>BAKING</td>\n",
       "      <td>{'$id': {'$oid': '601ac142be37ce2ead437559'}, '$ref': 'Cogs'}</td>\n",
       "      <td>test brand @1612366146133</td>\n",
       "      <td>0.0</td>\n",
       "      <td>TEST BRANDCODE @1612366146133</td>\n",
       "    </tr>\n",
       "    <tr>\n",
       "      <th>7</th>\n",
       "      <td>{'$oid': '5cdad0f5166eb33eb7ce0faa'}</td>\n",
       "      <td>511111104810</td>\n",
       "      <td>Condiments &amp; Sauces</td>\n",
       "      <td>NaN</td>\n",
       "      <td>{'$ref': 'Cogs', '$id': {'$oid': '559c2234e4b06aca36af13c6'}}</td>\n",
       "      <td>J.L. Kraft</td>\n",
       "      <td>NaN</td>\n",
       "      <td>J.L. KRAFT</td>\n",
       "    </tr>\n",
       "    <tr>\n",
       "      <th>8</th>\n",
       "      <td>{'$oid': '5ab15636e4b0be0a89bb0b07'}</td>\n",
       "      <td>511111504412</td>\n",
       "      <td>Canned Goods &amp; Soups</td>\n",
       "      <td>NaN</td>\n",
       "      <td>{'$ref': 'Cogs', '$id': {'$oid': '5a734034e4b0d58f376be874'}}</td>\n",
       "      <td>Campbell's Home Style</td>\n",
       "      <td>0.0</td>\n",
       "      <td>CAMPBELLS HOME STYLE</td>\n",
       "    </tr>\n",
       "    <tr>\n",
       "      <th>9</th>\n",
       "      <td>{'$oid': '5c408e8bcd244a1fdb47aee7'}</td>\n",
       "      <td>511111504788</td>\n",
       "      <td>Baking</td>\n",
       "      <td>NaN</td>\n",
       "      <td>{'$ref': 'Cogs', '$id': {'$oid': '59ba6f1ce4b092b29c167346'}}</td>\n",
       "      <td>test</td>\n",
       "      <td>NaN</td>\n",
       "      <td>TEST</td>\n",
       "    </tr>\n",
       "    <tr>\n",
       "      <th>10</th>\n",
       "      <td>{'$oid': '5f4bf556be37ce0b4491554d'}</td>\n",
       "      <td>511111516354</td>\n",
       "      <td>Baking</td>\n",
       "      <td>BAKING</td>\n",
       "      <td>{'$ref': 'Cogs', '$id': {'$oid': '5f4bf556be37ce0b44915549'}}</td>\n",
       "      <td>test brand @1598813526777</td>\n",
       "      <td>NaN</td>\n",
       "      <td>TEST BRANDCODE @1598813526777</td>\n",
       "    </tr>\n",
       "    <tr>\n",
       "      <th>11</th>\n",
       "      <td>{'$oid': '57c08106e4b0718ff5fcb02c'}</td>\n",
       "      <td>511111102540</td>\n",
       "      <td>NaN</td>\n",
       "      <td>NaN</td>\n",
       "      <td>{'$ref': 'Cpgs', '$id': {'$oid': '5332f5f2e4b03c9a25efd0aa'}}</td>\n",
       "      <td>MorningStar</td>\n",
       "      <td>NaN</td>\n",
       "      <td>NaN</td>\n",
       "    </tr>\n",
       "    <tr>\n",
       "      <th>12</th>\n",
       "      <td>{'$oid': '588ba07be4b02187f85cdadd'}</td>\n",
       "      <td>511111201076</td>\n",
       "      <td>Baking</td>\n",
       "      <td>NaN</td>\n",
       "      <td>{'$ref': 'Cogs', '$id': {'$oid': '559c2234e4b06aca36af13c6'}}</td>\n",
       "      <td>Calumet</td>\n",
       "      <td>0.0</td>\n",
       "      <td>CALUMET</td>\n",
       "    </tr>\n",
       "    <tr>\n",
       "      <th>13</th>\n",
       "      <td>{'$oid': '5d6413156d5f3b23d1bc790a'}</td>\n",
       "      <td>511111205012</td>\n",
       "      <td>Magazines</td>\n",
       "      <td>NaN</td>\n",
       "      <td>{'$ref': 'Cogs', '$id': {'$oid': '5d5d4fd16d5f3b23d1bc7905'}}</td>\n",
       "      <td>Entertainment Weekly</td>\n",
       "      <td>NaN</td>\n",
       "      <td>511111205012</td>\n",
       "    </tr>\n",
       "    <tr>\n",
       "      <th>14</th>\n",
       "      <td>{'$oid': '585a9611e4b03e62d1ce0e74'}</td>\n",
       "      <td>511111801801</td>\n",
       "      <td>Breakfast &amp; Cereal</td>\n",
       "      <td>NaN</td>\n",
       "      <td>{'$ref': 'Cogs', '$id': {'$oid': '5332f5fbe4b03c9a25efd0ba'}}</td>\n",
       "      <td>AUNT JEMIMA Syrup</td>\n",
       "      <td>0.0</td>\n",
       "      <td>AUNT JEMIMA SYRUP</td>\n",
       "    </tr>\n",
       "    <tr>\n",
       "      <th>15</th>\n",
       "      <td>{'$oid': '57e5820ce4b0ac389136a311'}</td>\n",
       "      <td>511111202233</td>\n",
       "      <td>Beer Wine Spirits</td>\n",
       "      <td>NaN</td>\n",
       "      <td>{'$ref': 'Cpgs', '$id': {'$oid': '5332f709e4b03c9a25efd0f1'}}</td>\n",
       "      <td>Molson Canadian</td>\n",
       "      <td>0.0</td>\n",
       "      <td>MOLSON</td>\n",
       "    </tr>\n",
       "    <tr>\n",
       "      <th>16</th>\n",
       "      <td>{'$oid': '5fb6adb8be37ce522e165cb8'}</td>\n",
       "      <td>511111817376</td>\n",
       "      <td>Health &amp; Wellness</td>\n",
       "      <td>HEALTHY_AND_WELLNESS</td>\n",
       "      <td>{'$ref': 'Cogs', '$id': {'$oid': '5d9b4f591dda2c6225a284aa'}}</td>\n",
       "      <td>Lotrimin®</td>\n",
       "      <td>0.0</td>\n",
       "      <td>LOTRIMIN</td>\n",
       "    </tr>\n",
       "    <tr>\n",
       "      <th>17</th>\n",
       "      <td>{'$oid': '5f358338be37ce443bf9d55a'}</td>\n",
       "      <td>511111515319</td>\n",
       "      <td>Baking</td>\n",
       "      <td>BAKING</td>\n",
       "      <td>{'$ref': 'Cogs', '$id': {'$oid': '5f358338be37ce443bf9d557'}}</td>\n",
       "      <td>test brand @1597342520277</td>\n",
       "      <td>NaN</td>\n",
       "      <td>TEST BRANDCODE @1597342520277</td>\n",
       "    </tr>\n",
       "    <tr>\n",
       "      <th>18</th>\n",
       "      <td>{'$oid': '5fb28549be37ce522e165cb5'}</td>\n",
       "      <td>511111317364</td>\n",
       "      <td>Baking</td>\n",
       "      <td>BAKING</td>\n",
       "      <td>{'$ref': 'Cogs', '$id': {'$oid': '5fb28549be37ce522e165cb4'}}</td>\n",
       "      <td>test brand @1605535049181</td>\n",
       "      <td>0.0</td>\n",
       "      <td>NaN</td>\n",
       "    </tr>\n",
       "    <tr>\n",
       "      <th>19</th>\n",
       "      <td>{'$oid': '592486bfe410d61fcea3d139'}</td>\n",
       "      <td>511111300700</td>\n",
       "      <td>Beauty</td>\n",
       "      <td>NaN</td>\n",
       "      <td>{'$ref': 'Cogs', '$id': {'$oid': '5332f5f6e4b03c9a25efd0b4'}}</td>\n",
       "      <td>ST. IVES</td>\n",
       "      <td>0.0</td>\n",
       "      <td>ST IVES</td>\n",
       "    </tr>\n",
       "  </tbody>\n",
       "</table>\n",
       "</div>"
      ],
      "text/plain": [
       "                                     _id       barcode              category  \\\n",
       "0   {'$oid': '601ac115be37ce2ead437551'}  511111019862                Baking   \n",
       "1   {'$oid': '601c5460be37ce2ead43755f'}  511111519928             Beverages   \n",
       "2   {'$oid': '601ac142be37ce2ead43755d'}  511111819905                Baking   \n",
       "3   {'$oid': '601ac142be37ce2ead43755a'}  511111519874                Baking   \n",
       "4   {'$oid': '601ac142be37ce2ead43755e'}  511111319917        Candy & Sweets   \n",
       "5   {'$oid': '601ac142be37ce2ead43755b'}  511111719885                Baking   \n",
       "6   {'$oid': '601ac142be37ce2ead43755c'}  511111219897                Baking   \n",
       "7   {'$oid': '5cdad0f5166eb33eb7ce0faa'}  511111104810   Condiments & Sauces   \n",
       "8   {'$oid': '5ab15636e4b0be0a89bb0b07'}  511111504412  Canned Goods & Soups   \n",
       "9   {'$oid': '5c408e8bcd244a1fdb47aee7'}  511111504788                Baking   \n",
       "10  {'$oid': '5f4bf556be37ce0b4491554d'}  511111516354                Baking   \n",
       "11  {'$oid': '57c08106e4b0718ff5fcb02c'}  511111102540                   NaN   \n",
       "12  {'$oid': '588ba07be4b02187f85cdadd'}  511111201076                Baking   \n",
       "13  {'$oid': '5d6413156d5f3b23d1bc790a'}  511111205012             Magazines   \n",
       "14  {'$oid': '585a9611e4b03e62d1ce0e74'}  511111801801    Breakfast & Cereal   \n",
       "15  {'$oid': '57e5820ce4b0ac389136a311'}  511111202233     Beer Wine Spirits   \n",
       "16  {'$oid': '5fb6adb8be37ce522e165cb8'}  511111817376     Health & Wellness   \n",
       "17  {'$oid': '5f358338be37ce443bf9d55a'}  511111515319                Baking   \n",
       "18  {'$oid': '5fb28549be37ce522e165cb5'}  511111317364                Baking   \n",
       "19  {'$oid': '592486bfe410d61fcea3d139'}  511111300700                Beauty   \n",
       "\n",
       "            categoryCode  \\\n",
       "0                 BAKING   \n",
       "1              BEVERAGES   \n",
       "2                 BAKING   \n",
       "3                 BAKING   \n",
       "4       CANDY_AND_SWEETS   \n",
       "5                 BAKING   \n",
       "6                 BAKING   \n",
       "7                    NaN   \n",
       "8                    NaN   \n",
       "9                    NaN   \n",
       "10                BAKING   \n",
       "11                   NaN   \n",
       "12                   NaN   \n",
       "13                   NaN   \n",
       "14                   NaN   \n",
       "15                   NaN   \n",
       "16  HEALTHY_AND_WELLNESS   \n",
       "17                BAKING   \n",
       "18                BAKING   \n",
       "19                   NaN   \n",
       "\n",
       "                                                              cpg  \\\n",
       "0   {'$id': {'$oid': '601ac114be37ce2ead437550'}, '$ref': 'Cogs'}   \n",
       "1   {'$id': {'$oid': '5332f5fbe4b03c9a25efd0ba'}, '$ref': 'Cogs'}   \n",
       "2   {'$id': {'$oid': '601ac142be37ce2ead437559'}, '$ref': 'Cogs'}   \n",
       "3   {'$id': {'$oid': '601ac142be37ce2ead437559'}, '$ref': 'Cogs'}   \n",
       "4   {'$id': {'$oid': '5332fa12e4b03c9a25efd1e7'}, '$ref': 'Cogs'}   \n",
       "5   {'$id': {'$oid': '601ac142be37ce2ead437559'}, '$ref': 'Cogs'}   \n",
       "6   {'$id': {'$oid': '601ac142be37ce2ead437559'}, '$ref': 'Cogs'}   \n",
       "7   {'$ref': 'Cogs', '$id': {'$oid': '559c2234e4b06aca36af13c6'}}   \n",
       "8   {'$ref': 'Cogs', '$id': {'$oid': '5a734034e4b0d58f376be874'}}   \n",
       "9   {'$ref': 'Cogs', '$id': {'$oid': '59ba6f1ce4b092b29c167346'}}   \n",
       "10  {'$ref': 'Cogs', '$id': {'$oid': '5f4bf556be37ce0b44915549'}}   \n",
       "11  {'$ref': 'Cpgs', '$id': {'$oid': '5332f5f2e4b03c9a25efd0aa'}}   \n",
       "12  {'$ref': 'Cogs', '$id': {'$oid': '559c2234e4b06aca36af13c6'}}   \n",
       "13  {'$ref': 'Cogs', '$id': {'$oid': '5d5d4fd16d5f3b23d1bc7905'}}   \n",
       "14  {'$ref': 'Cogs', '$id': {'$oid': '5332f5fbe4b03c9a25efd0ba'}}   \n",
       "15  {'$ref': 'Cpgs', '$id': {'$oid': '5332f709e4b03c9a25efd0f1'}}   \n",
       "16  {'$ref': 'Cogs', '$id': {'$oid': '5d9b4f591dda2c6225a284aa'}}   \n",
       "17  {'$ref': 'Cogs', '$id': {'$oid': '5f358338be37ce443bf9d557'}}   \n",
       "18  {'$ref': 'Cogs', '$id': {'$oid': '5fb28549be37ce522e165cb4'}}   \n",
       "19  {'$ref': 'Cogs', '$id': {'$oid': '5332f5f6e4b03c9a25efd0b4'}}   \n",
       "\n",
       "                         name  topBrand                      brandCode  \n",
       "0   test brand @1612366101024       0.0                            NaN  \n",
       "1                   Starbucks       0.0                      STARBUCKS  \n",
       "2   test brand @1612366146176       0.0  TEST BRANDCODE @1612366146176  \n",
       "3   test brand @1612366146051       0.0  TEST BRANDCODE @1612366146051  \n",
       "4   test brand @1612366146827       0.0  TEST BRANDCODE @1612366146827  \n",
       "5   test brand @1612366146091       0.0  TEST BRANDCODE @1612366146091  \n",
       "6   test brand @1612366146133       0.0  TEST BRANDCODE @1612366146133  \n",
       "7                  J.L. Kraft       NaN                     J.L. KRAFT  \n",
       "8       Campbell's Home Style       0.0           CAMPBELLS HOME STYLE  \n",
       "9                        test       NaN                           TEST  \n",
       "10  test brand @1598813526777       NaN  TEST BRANDCODE @1598813526777  \n",
       "11                MorningStar       NaN                            NaN  \n",
       "12                    Calumet       0.0                        CALUMET  \n",
       "13       Entertainment Weekly       NaN                   511111205012  \n",
       "14          AUNT JEMIMA Syrup       0.0              AUNT JEMIMA SYRUP  \n",
       "15            Molson Canadian       0.0                         MOLSON  \n",
       "16                  Lotrimin®       0.0                       LOTRIMIN  \n",
       "17  test brand @1597342520277       NaN  TEST BRANDCODE @1597342520277  \n",
       "18  test brand @1605535049181       0.0                            NaN  \n",
       "19                   ST. IVES       0.0                        ST IVES  "
      ]
     },
     "execution_count": 262,
     "metadata": {},
     "output_type": "execute_result"
    }
   ],
   "source": [
    "brands_df= pd.read_json('brands.json', lines= True)\n",
    "brands_df.head(20)"
   ]
  },
  {
   "cell_type": "code",
   "execution_count": 156,
   "id": "a9d74b32",
   "metadata": {},
   "outputs": [
    {
     "data": {
      "text/plain": [
       "(1167, 8)"
      ]
     },
     "execution_count": 156,
     "metadata": {},
     "output_type": "execute_result"
    }
   ],
   "source": [
    "brands_df.shape"
   ]
  },
  {
   "cell_type": "markdown",
   "id": "368d6f9d",
   "metadata": {},
   "source": [
    "# Check for duplicates"
   ]
  },
  {
   "cell_type": "code",
   "execution_count": 267,
   "id": "485e22a2",
   "metadata": {},
   "outputs": [
    {
     "data": {
      "text/plain": [
       "1167"
      ]
     },
     "execution_count": 267,
     "metadata": {},
     "output_type": "execute_result"
    }
   ],
   "source": [
    "brands_df['_id'].nunique()"
   ]
  },
  {
   "cell_type": "markdown",
   "id": "d9f56363",
   "metadata": {},
   "source": [
    "The no of unique brands id's are 1167 which is equal to no of ids in data. Hence no duplicates found in the data."
   ]
  },
  {
   "cell_type": "markdown",
   "id": "c03c43f5",
   "metadata": {},
   "source": [
    "# Checking the datatypes"
   ]
  },
  {
   "cell_type": "code",
   "execution_count": 275,
   "id": "28d3a863",
   "metadata": {},
   "outputs": [
    {
     "data": {
      "text/plain": [
       "_id              object\n",
       "barcode           int64\n",
       "category         object\n",
       "categoryCode     object\n",
       "cpg              object\n",
       "name             object\n",
       "topBrand        float64\n",
       "brandCode        object\n",
       "dtype: object"
      ]
     },
     "execution_count": 275,
     "metadata": {},
     "output_type": "execute_result"
    }
   ],
   "source": [
    "brands_df.dtypes"
   ]
  },
  {
   "cell_type": "code",
   "execution_count": 280,
   "id": "6507c593",
   "metadata": {},
   "outputs": [],
   "source": [
    "brands_df['barcode']=brands_df['barcode'].astype('object')"
   ]
  },
  {
   "cell_type": "code",
   "execution_count": 281,
   "id": "f9c8decb",
   "metadata": {},
   "outputs": [
    {
     "name": "stdout",
     "output_type": "stream",
     "text": [
      "<class 'pandas.core.frame.DataFrame'>\n",
      "RangeIndex: 1167 entries, 0 to 1166\n",
      "Data columns (total 8 columns):\n",
      " #   Column        Non-Null Count  Dtype  \n",
      "---  ------        --------------  -----  \n",
      " 0   _id           1167 non-null   object \n",
      " 1   barcode       1167 non-null   object \n",
      " 2   category      1012 non-null   object \n",
      " 3   categoryCode  517 non-null    object \n",
      " 4   cpg           1167 non-null   object \n",
      " 5   name          1167 non-null   object \n",
      " 6   topBrand      555 non-null    float64\n",
      " 7   brandCode     933 non-null    object \n",
      "dtypes: float64(1), object(7)\n",
      "memory usage: 73.1+ KB\n",
      "None\n"
     ]
    }
   ],
   "source": [
    "print(brands_df.info())"
   ]
  },
  {
   "cell_type": "markdown",
   "id": "9228fb3e",
   "metadata": {},
   "source": [
    "The barcode needs to be converted to object data tyep. Other than this,There is no issue with the default datatypes."
   ]
  },
  {
   "cell_type": "markdown",
   "id": "e5136ed7",
   "metadata": {},
   "source": [
    "# Missing data"
   ]
  },
  {
   "cell_type": "code",
   "execution_count": 282,
   "id": "9d2658ce",
   "metadata": {},
   "outputs": [
    {
     "name": "stdout",
     "output_type": "stream",
     "text": [
      "_id               0\n",
      "barcode           0\n",
      "category        155\n",
      "categoryCode    650\n",
      "cpg               0\n",
      "name              0\n",
      "topBrand        612\n",
      "brandCode       234\n",
      "dtype: int64\n",
      "_id: 0.00% null values\n",
      "barcode: 0.00% null values\n",
      "category: 13.28% null values\n",
      "categoryCode: 55.70% null values\n",
      "cpg: 0.00% null values\n",
      "name: 0.00% null values\n",
      "topBrand: 52.44% null values\n",
      "brandCode: 20.05% null values\n"
     ]
    }
   ],
   "source": [
    "#check for nulls or missing data\n",
    "print(brands_df.isnull().sum())\n",
    "#percentage of missing values for each column\n",
    "for col in brands_df.columns:\n",
    "    null_percentage = brands_df[col].isnull().sum() / len(brands_df) * 100\n",
    "    print(f\"{col}: {null_percentage:.2f}% null values\")"
   ]
  },
  {
   "cell_type": "markdown",
   "id": "669b22ea",
   "metadata": {},
   "source": [
    "The topbrand column has more than 50% of null values. - This indicates that the boolean indicator whether the brand is top or not does not work effeecienlty. It affects in identifying the top brands for business decisions.\n",
    "The category code has 55.7 % of null values which is a considerable concern in terms of missing data.\n",
    "The brandcode and category and category code have missing values which could lead to difficulties in identifying the brands and category for business purpose"
   ]
  },
  {
   "cell_type": "markdown",
   "id": "74fdac99",
   "metadata": {},
   "source": [
    "# Categorical variables"
   ]
  },
  {
   "cell_type": "code",
   "execution_count": 299,
   "id": "573ce3bb",
   "metadata": {},
   "outputs": [
    {
     "data": {
      "text/plain": [
       "list"
      ]
     },
     "execution_count": 299,
     "metadata": {},
     "output_type": "execute_result"
    }
   ],
   "source": [
    "#Categorical variables in recipets dataframe\n",
    "cat_vars1 = [var for var in brands_df.columns if brands_df[var].dtype == 'O']\n",
    "cat_vars1"
   ]
  },
  {
   "cell_type": "code",
   "execution_count": 300,
   "id": "54b42313",
   "metadata": {},
   "outputs": [],
   "source": [
    "cat_vars1.remove('cpg')"
   ]
  },
  {
   "cell_type": "markdown",
   "id": "dd183d11",
   "metadata": {},
   "source": [
    "# Cardinality and rare values check for categorical variables"
   ]
  },
  {
   "cell_type": "code",
   "execution_count": 303,
   "id": "b54f7434",
   "metadata": {},
   "outputs": [
    {
     "name": "stdout",
     "output_type": "stream",
     "text": [
      "Unique values in _id: ['601ac115be37ce2ead437551' '601c5460be37ce2ead43755f'\n",
      " '601ac142be37ce2ead43755d' ... '5f494c6e04db711dd8fe87e7'\n",
      " '5a021611e4b00efe02b02a57' '6026d757be37ce6369301468']\n",
      "Unique values in barcode: [511111019862 511111519928 511111819905 ... 511111416173 511111400608\n",
      " 511111019930]\n",
      "Unique values in category: ['Baking' 'Beverages' 'Candy & Sweets' 'Condiments & Sauces'\n",
      " 'Canned Goods & Soups' nan 'Magazines' 'Breakfast & Cereal'\n",
      " 'Beer Wine Spirits' 'Health & Wellness' 'Beauty' 'Baby' 'Frozen'\n",
      " 'Grocery' 'Snacks' 'Household' 'Personal Care' 'Dairy'\n",
      " 'Cleaning & Home Improvement' 'Deli' 'Beauty & Personal Care'\n",
      " 'Bread & Bakery' 'Outdoor' 'Dairy & Refrigerated']\n",
      "Unique values in categoryCode: ['BAKING' 'BEVERAGES' 'CANDY_AND_SWEETS' nan 'HEALTHY_AND_WELLNESS'\n",
      " 'GROCERY' 'PERSONAL_CARE' 'CLEANING_AND_HOME_IMPROVEMENT'\n",
      " 'BEER_WINE_SPIRITS' 'BABY' 'BREAD_AND_BAKERY' 'OUTDOOR'\n",
      " 'DAIRY_AND_REFRIGERATED' 'MAGAZINES' 'FROZEN']\n",
      "Unique values in name: ['test brand @1612366101024' 'Starbucks' 'test brand @1612366146176' ...\n",
      " 'test brand @1598639215217' 'LIPTON TEA Leaves'\n",
      " 'test brand @1613158231643']\n",
      "Unique values in brandCode: [nan 'STARBUCKS' 'TEST BRANDCODE @1612366146176'\n",
      " 'TEST BRANDCODE @1612366146051' 'TEST BRANDCODE @1612366146827'\n",
      " 'TEST BRANDCODE @1612366146091' 'TEST BRANDCODE @1612366146133'\n",
      " 'J.L. KRAFT' 'CAMPBELLS HOME STYLE' 'TEST'\n",
      " 'TEST BRANDCODE @1598813526777' 'CALUMET' '511111205012'\n",
      " 'AUNT JEMIMA SYRUP' 'MOLSON' 'LOTRIMIN' 'TEST BRANDCODE @1597342520277'\n",
      " 'ST IVES' 'CHRISIMAGE' 'ALKA SELTZER' \"JACK DANIEL'S BARBECUE\"\n",
      " 'MAGNUM Ice Cream' '511111105329' 'TEST BRANDCODE @1598635634882'\n",
      " 'TACO BELL' 'FROSTED CHEERIOS' 'TEST BRANDCODE @1598639199674'\n",
      " 'GODIVA DRY PACKAGED DESSERTS' 'LARABAR' 'TEST BRANDCODE @1597350074333'\n",
      " 'TEST BRANDCODE @1607636368717' 'TEST BRANDCODE @1607707830095'\n",
      " 'COTTONELLE' 'IZZE' 'MIO' '511111505365' 'QUILTING SPECIAL EDITION'\n",
      " 'TEST BRANDCODE @1604437351617' 'HERMAN' 'KEVITA' 'DELIMEX'\n",
      " 'THE RIGHT TO SHOWER' 'CARESS' 'TEST BRANDCODE @1595340086044'\n",
      " 'TEST BRANDCODE @1597861700968' 'TEST BRAND CODE'\n",
      " 'TEST BRANDCODE @1598026275245' 'SWANSON' 'TEST BRANDCODE @1598026274668'\n",
      " 'DASH-2249 1' '511111805854' 'KETTLE BRAND' 'CAMPBELLS SOUP AT HAND '\n",
      " 'RAINBO' 'CRISPIN' 'TEST BRANDCODE @1607707830137' 'CLARITIN®'\n",
      " 'COOKIE CRISP' 'TEST BRANDCODE @1605535020442'\n",
      " 'TEST BRANDCODE @1604946244750' 'SNYDERS OF HANOVER' 'GOOD SEASONS'\n",
      " 'TEST BRANDCODE @1598633602279' 'REVOLVER' 'KEYSTONE LIGHT'\n",
      " 'BETTY CROCKER FRUIT ROLL UPS' 'TEST BRANDCODE @1607639232356' 'MOMOFUKU'\n",
      " 'POPSICLE' 'MUG Root Beer' 'TOMS' 'TEST BRANDCODE @1606765579244'\n",
      " 'TEST BRANDCODE @1597342520305' 'PROMISE' 'OFF THE EATEN PATH'\n",
      " 'TEST BRANDCODE @1600291350125' 'TEST BRANDCODE @1603760319758' \"NANCY'S\"\n",
      " 'CAMPBELLS CHUNKY MAXX' 'FOOD NETWORK KITCHEN INSPIRATIONS'\n",
      " 'TEST BRANDCODE @1597935986390' 'TEST BRANDCODE @1598633693744'\n",
      " 'SABRITAS' 'GEVALIA KAFFE' 'TEST BRANDCODE @1598290603501'\n",
      " \"O THAT'S GOOD\" \"CHESTER'S\" \"MISS VICKIE'S\" \"SIR KENSINGTON'S\" 'DORITOS'\n",
      " 'A.1.' 'TEST BRANDCODE @1598290603587' 'LOOZA JUICES' 'ALEVE'\n",
      " 'SOFT-SHEEN CARSON - HAIR COLOR' 'TEST BRANDCODE @1604946245499' ''\n",
      " 'TEST BRANDCODE @1598639199117' 'PULL UPS'\n",
      " 'TEST BRANDCODE @1605535020629' 'BRISK' 'CHRISXYZ' \"BULL'S-EYE\"\n",
      " 'KLONDIKE' 'FRUTTARE' '511111305569' 'KNOX' '511111505716' 'PLANTERS'\n",
      " 'DEGREE' \"CALEB'S KOLA\" 'LEMON LEMON' 'VASELINE' '511111005216'\n",
      " 'TEST BRANDCODE @1607312532178' 'PINESOL' 'TEST BRANDCODE @1595340086791'\n",
      " '511111005148' 'ESSIE' '0987654321' 'CAMPBELLS WELL YES'\n",
      " 'TEST BRANDCODE @1607312532304' 'TEST BRANDCODE @1598026274643'\n",
      " 'TEST BRANDCODE @1601644881995' 'BEEF STEAK' \"POND'S\"\n",
      " 'L’OREAL PARIS - COSMETICS' '511111605829'\n",
      " 'TEST BRANDCODE @1595340086078' 'TEST BRANDCODE @1602694020787'\n",
      " 'TEST BRANDCODE @1601939013649' 'SNACK FACTORY' 'MILLER64'\n",
      " \"I CAN'T BELIEVE IT'S NOT BUTTER!\" '511111805786'\n",
      " 'TEST BRANDCODE @1610496647142' 'TEST BRANDCODE @1610496646289'\n",
      " 'TEST BRANDCODE @1610496646345' 'TEST BRANDCODE @1610496646232'\n",
      " 'TEST BRANDCODE @1610495466218' 'TEST BRANDCODE @1610495102462'\n",
      " 'TEST BRANDCODE @1610495466250' 'KRAFT MIRACLE WHIP'\n",
      " 'TEST BRANDCODE @1598042674173' 'TEST BRANDCODE @1598635634796'\n",
      " 'SHEAF STOUT' 'CHEETOS' 'NATURES HARVEST' '511111605058'\n",
      " 'TEST BRANDCODE @1598639198570' 'TEST BRANDCODE @1599097538609' 'SCOTT'\n",
      " 'TEST BRANDCODE @1607639231674' 'EPIC' 'GROLSCH'\n",
      " 'TEST BRANDCODE @1603760320407' 'MAGNUM' 'TEST BRANDCODE @1603925787411'\n",
      " 'TEST BRANDCODE @1610495466861' 'TEST BRANDCODE @1610495102526'\n",
      " 'TEST BRANDCODE @1610495102491' 'TEST BRANDCODE @1610495466175'\n",
      " 'TEST BRANDCODE @1610495103255' 'TEST BRANDCODE @1610495466285'\n",
      " 'TEST BRANDCODE @1610049748118' 'TEST BRANDCODE @1610049748181'\n",
      " 'TEST BRANDCODE @1610049748154' 'TEST BRANDCODE @1610049748724'\n",
      " 'TEST BRANDCODE @1610053719707' 'TEST BRANDCODE @1607987891932'\n",
      " 'TEST BRANDCODE @1607987891893' 'TEST BRANDCODE @1607987891852'\n",
      " 'TEST BRANDCODE @1607987892541' 'TEST BRANDCODE @1607707829962'\n",
      " \"KILLIAN'S\" 'TEST BRANDCODE @1597861700880' \"KRAFT SHAKE 'N BAKE\" 'HP'\n",
      " 'DRUMSTICK CEREAL' 'ALEVE D SINUS & COLD' 'CHEEZ WHIZ'\n",
      " 'TEST BRANDCODE @1607463685522' 'COOL WHIP' 'TRIX' 'FLINTSTONES'\n",
      " 'ABSOLUT® GRAPEFRUIT' 'ALTOS' 'DEL MAGUEY ' 'JAMESON® BLACK BARREL '\n",
      " 'JAMESON' 'MONKEY 47' 'MALIBU' 'LILLET' '511111705161' 'AMP2'\n",
      " 'TEST BRANDCODE @1597861700940' 'TEST BRANDCODE @1604437351567' 'KELSEN'\n",
      " '511111405818' 'ALEVE DIRECT THERAPY PAIN RELIEF DEVICES'\n",
      " 'COLORADO NATIVE' 'SOBE' 'KNUDSEN' '511111105763' '511111005421'\n",
      " \"CAP'N CRUNCH\" \"MRS BAIRD'S\" 'TRESEMME' 'PURE LEAF Iced Tea Beverages'\n",
      " 'ONE A DAY KIDS' 'TEST BRANDCODE @1599159968998' 'LIFEWTR' '511111804994'\n",
      " 'SIMILAC' 'CORICIDIN HBP' 'TEST BRANDCODE @1601939016290' 'BADEDAS'\n",
      " 'TEST BRANDCODE @1604946244876' 'BENIHANA' 'MOUNTAIN HIGH' 'TOSTITOS'\n",
      " 'TEST BRANDCODE @1603760319788' 'GERBER BABY FOOD' 'PACE'\n",
      " 'CAMPBELLS SLOW KETTLE ' 'ARCHWAY' 'BAYER® ASPIRIN'\n",
      " 'TEST BRANDCODE @1610055793449' 'TEST BRANDCODE @1610055793411'\n",
      " 'TEST BRANDCODE @1610055793500' 'TEST BRANDCODE @1610055794196'\n",
      " 'TEST BRANDCODE @1610055793537' 'TEST BRANDCODE @1610058181549'\n",
      " 'TEST BRANDCODE @1610053719944' 'TEST BRANDCODE @1610053719998'\n",
      " 'TEST BRANDCODE @1610053719869' 'TEST BRANDCODE @1610053721033' 'DEPEND'\n",
      " 'TEST BRANDCODE @1608313322283' 'TEST BRANDCODE @1608313321374'\n",
      " 'TEST BRANDCODE @1608313321191' 'TEST BRANDCODE @1608313321301'\n",
      " 'TEST BRANDCODE @1608313321222' 'NATURE VALLEY'\n",
      " 'TEST BRANDCODE @1598633693767' 'TEST BRANDCODE @1598633693791' 'ANZIO'\n",
      " '511111705000' \"HERSHEY'S WHIPPED TOPPING\"\n",
      " 'TEST BRANDCODE @1598633693720' 'TEST BRANDCODE @1605535020671'\n",
      " 'IMPERIAL' 'ALEVE PM NIGHT TIME' 'TEST BRANDCODE @1603925787294'\n",
      " 'APOTHECARE ESSENTIALS' \"HENRY WEINHARD'S\" 'CAMPBELLS CHUNKY '\n",
      " 'ONE A DAY® WOMENS' 'TEST BRANDCODE @1595340085980' 'KINGSFORD'\n",
      " 'YOPLAIT GO-GURT' 'FRITO-LAY' 'GREY POUPON'\n",
      " 'TEST BRANDCODE @1598296704763' 'BERROCA®' 'PROPEL' \"MILWAUKEE'S BEST\"\n",
      " 'SPITZ' 'IMAGINE' 'TEST BRANDCODE @1597342520969' 'TUSK & GRAIN'\n",
      " \"REDD'S ALE\" 'LANCE' 'PACIFIC FOODS' 'YOPLAIT DUNKERS'\n",
      " 'TEST BRANDCODE @1598554813705' 'LIPTON Soup' 'MINIONS CEREAL'\n",
      " 'LOVE HOME AND PLANET' 'TEST BRANDCODE @1595968943012' 'ONETOUCH'\n",
      " 'TEST BRANDCODE @1597935986248' 'KRAFT' 'BASIC 4' 'WOLFGANG PUCK'\n",
      " 'TEST BRANDCODE @1601659120828' 'TEST BRANDCODE @1603925787441'\n",
      " 'THE SOULFUL PROJECT' 'TEST BRANDCODE @1598633602924' 'DREAM WHIP'\n",
      " 'TEST BRANDCODE @1597527951461' 'TEST BRANDCODE @1607639231623'\n",
      " 'KJELDSEN' 'TEST BRANDCODE @1598635435896'\n",
      " 'TEST BRANDCODE @1599849713773' 'TEST BRANDCODE @1607636369405'\n",
      " 'TEST BRANDCODE @1601644363827' 'PEPPERIDGE FARM'\n",
      " 'TEST BRANDCODE @1611088503689' 'TEST BRANDCODE @1605535020580'\n",
      " 'MILLER HIGH LIFE' 'QUAKER' '511111705727' 'ATHENOS'\n",
      " 'TEST BRANDCODE @1599159969028' 'TEST BRANDCODE @1597350074404' 'SEDAL'\n",
      " 'RED ROCK DELI' 'ALKA SELTZER PLUS SINUS CAP/ GEL/ TAB'\n",
      " 'TEST BRANDCODE @1598633602253' 'SMARTFOOD'\n",
      " 'TEST BRANDCODE @1598042673532' 'TEST BRANDCODE @1601939762881'\n",
      " 'OSCAR MAYER' 'LECH PREMIUM' '511111805137' 'HEINERS' 'PARENTS'\n",
      " 'PIONEER WOMAN' 'TEST BRANDCODE @1611088504474' '511111605102'\n",
      " 'HOP VALLEY' 'TEST BRANDCODE @1597861700914' 'YUBAN' '511111105114'\n",
      " 'TEST BRANDCODE @1603760319682' 'TEST BRANDCODE @1598716509394' 'TIGI'\n",
      " \"AUTUMN'S GOLD\" 'BROOKE BOND' '511111105046'\n",
      " 'TEST BRANDCODE @1595968943049' 'AMPTEST' 'COORS' 'BOLT 24' 'MIST TWST'\n",
      " 'TEST BRANDCODE @1608136484526' 'TEST BRANDCODE @1608136485398'\n",
      " 'TEST BRANDCODE @1608136484574' 'SARGENTO'\n",
      " 'TEST BRANDCODE @1608136484633' 'TEST BRANDCODE @1608136484689'\n",
      " 'TEST BRANDCODE @1610038521565' 'TEST BRANDCODE @1610038521677'\n",
      " 'TEST BRANDCODE @1610038521624' 'TEST BRANDCODE @1610038522559'\n",
      " 'TEST BRANDCODE @1610040576117' 'TEST BRANDCODE @1610040576672'\n",
      " 'TEST BRANDCODE @1610040576088' 'TEST BRANDCODE @1610040576148'\n",
      " 'TEST BRANDCODE @1610040576053' 'ALKA SELTZER PLUS'\n",
      " 'TEST BRANDCODE @1610653897113' 'TEST BRANDCODE @1610653894519'\n",
      " 'TEST BRANDCODE @1610660035659' 'TEST BRANDCODE @1610653894662'\n",
      " 'TEST BRANDCODE @1610653894371' 'TEST BRANDCODE @1601659122798'\n",
      " 'COCOA PUFFS' 'TEST BRANDCODE @1601659120793' 'JAYS' 'KNORR' 'CRISTAL'\n",
      " 'TEST BRANDCODE @1607312532874' 'BOCA' 'ALEXA' 'KIX'\n",
      " 'TEST BRANDCODE @1595531348246' \"GRANDMA'S\"\n",
      " 'TEST BRANDCODE @1602694015178' \"SHARP'S NEAR BEER\" 'BAILEYS' 'FINISH'\n",
      " 'TEST BRANDCODE @1598639197926' 'TEST BRANDCODE @1602694015743' 'JELL-O'\n",
      " 'TEST BRANDCODE @1601644364536' 'TEST BRANDCODE @1603925787997'\n",
      " 'GOLDFISH' 'TEST BRANDCODE @1598633602304'\n",
      " 'TEST BRANDCODE @1601659120694' 'CAPE LINE'\n",
      " 'TEST BRANDCODE @1597935987233' 'NEAR EAST' '511111505150' 'CLOROX'\n",
      " 'MAY-BUD' 'TEST BRANDCODE @1599849713798' 'GATORADE'\n",
      " 'TEST BRANDCODE @1597342520132' 'GARDEN FRESH GOURMET'\n",
      " 'AUNT JEMIMA DRY BREAKFAST MIXES' 'OLDE ENGLISH'\n",
      " 'TEST BRANDCODE @1600291349255' 'MATADOR' '511111305286' \"REESE'S PUFFS\"\n",
      " 'GOLDEN GRAHAMS' 'TEST BRANDCODE @1598026274692' '511111805342'\n",
      " 'TEST BRANDCODE @1598554813744' 'RICE-A-RONI' 'STELLA DORO'\n",
      " 'TEST BRANDCODE @1598813526686' 'TEST BRANDCODE @1604437351678'\n",
      " 'CAMPBELLS READY MEALS' 'RESOLVE' 'MAUI STYLE' 'CULTURE REPUBLICK '\n",
      " 'WHEATIES' 'TEST BRANDCODE @1601644882062'\n",
      " 'TEST BRANDCODE @1601939013444' '511111805571'\n",
      " 'TEST BRANDCODE @1598635634821' 'TEST BRANDCODE @1607707830844' 'ZIMA'\n",
      " 'TEST BRANDCODE @1598026274609' 'CHESTERS'\n",
      " 'TEST BRANDCODE @1601644363784' 'CAPE COD' 'COUNTRY CROCK PLANT BUTTER'\n",
      " '511111205388' 'CHOCOLATE LUCKY CHARMS' 'TEST BRANDCODE @1598554813535'\n",
      " 'TEST BRANDCODE @1610493496975' 'TEST BRANDCODE @1610495102411'\n",
      " 'TEST BRANDCODE @1610494831056' 'TEST BRANDCODE @1610494831082'\n",
      " 'TEST BRANDCODE @1610494831023' 'TEST BRANDCODE @1610493497005'\n",
      " 'TEST BRANDCODE @1610493497517' 'TEST BRANDCODE @1610493497034'\n",
      " 'TEST BRANDCODE @1610494830985' 'TEST BRANDCODE @1610494831583'\n",
      " 'TEST BRANDCODE @1608313051339' 'TEST BRANDCODE @1608313051291'\n",
      " 'TEST BRANDCODE @1608313052049' 'TEST BRANDCODE @1608313051133'\n",
      " 'TEST BRANDCODE @1608313051244' 'BALL PARK'\n",
      " 'TEST BRANDCODE @1598290603618' 'HIDDEL BARREL COLLECTION' 'LAUNCH BOX'\n",
      " 'SIMPLE' 'SALON SELECTIVES' 'CRACKER BARREL' 'HUGGIES LITTLE SWIMMERS'\n",
      " 'TEST BRANDCODE @1598042673502' 'TEST BRANDCODE @1607707830173' 'SHREDS'\n",
      " 'BAKEN ETS' 'HONEY NUT CHEERIOS' 'DASH-2249 1 BRAND 1' 'CRACKER JACK'\n",
      " 'GERBER GOOD START' 'TEST BRANDCODE @1598554813654'\n",
      " 'TEST BRANDCODE @1598635436505' 'TEST BRANDCODE @1597527951436'\n",
      " 'BETTER HOMES & GARDENS' 'BIMBO' \"LEINENKUGEL'S\" 'NESTLE NAN'\n",
      " 'TEST BRANDCODE @1598042673466' 'JET-PUFFED'\n",
      " 'TEST BRANDCODE @1601644882548' 'HEALTH' 'TEST BRANDCODE @1601644882019'\n",
      " 'TEST BRANDCODE @1601644363876' '511111705444' 'MUNCHIES' '511111605775'\n",
      " 'TEST BRANDCODE @1607463684816' 'TEST BRANDCODE @1598633694347'\n",
      " 'TEST BRANDCODE @1598296704639' \"ANNIE'S\" 'TEST BRANDCODE @1598881562991'\n",
      " 'TEST BRANDCODE @1598813526656' 'MIDOL' 'TWISTED RANCH' 'EMERALD'\n",
      " 'TEST BRANDCODE @1598881562500' 'TEST BRANDCODE @1598711015538'\n",
      " 'HERSHEYS HOT COCOA' 'PG TIPS' 'MUNCHOS' 'LUNCHABLES' 'WOOLITE'\n",
      " '511111104971' 'HUGGIES' 'TEST BRANDCODE @1598711015353'\n",
      " 'TEST BRANDCODE @1605535021531' 'BISCA' 'TEST BRANDCODE @1598881563900'\n",
      " 'TEST BRANDCODE @1601939762909' 'PERONI' 'TEST BRANDCODE @1598554814581'\n",
      " 'TEST BRANDCODE @1607463684722' 'BETTY CROCKER GUSHERS'\n",
      " 'TEST BRANDCODE @1597861701615' 'LUCKY CHARMS' 'BACK TO NATURE DINNERS'\n",
      " 'TEST BRANDCODE @1597350074366' 'TEST BRANDCODE @1606765578747'\n",
      " '511111305125' 'GRANDMA SYCAMORE' 'MERMAID CEREAL'\n",
      " 'TEST BRANDCODE @1597350074237' 'AQUAFINA' ' SOBE' '511111905240'\n",
      " 'TEST BRANDCODE @1599849713825' 'CAMPBELLS DINNER SAUCES ' 'WILD STYLE'\n",
      " 'DOVE BODY' 'TEST BRANDCODE @1601939012950'\n",
      " 'TEST BRANDCODE @1597342520238' 'WEIGHT WATCHERS SMART ONES'\n",
      " 'ALEVE LIQUID GELS' 'SANTITAS' 'FRUIT LOVE' 'TROPICANA' 'RAISIN NUT BRAN'\n",
      " '511111405696' 'VELVEETA' 'GOOD HUMOR' 'JUST CRACK AN EGG'\n",
      " 'TEST BRANDCODE @1604946244789' '511111305071'\n",
      " 'TEST BRANDCODE @1598813526618' 'PEPSI' \"MOTT'S\" 'RIBERHUS'\n",
      " \"HERSHEY'S PUDDING\" 'TEST BRANDCODE @1599097538395'\n",
      " 'TEST BRANDCODE @1607636368260' 'GO & GROW'\n",
      " 'TEST BRANDCODE @1595968943087' 'COUNTRY CROCK' \"STACY'S\" \"MR. YOSHIDA'S\"\n",
      " 'TEST BRANDCODE @1604437352151' 'TEST BRANDCODE @1595531348410'\n",
      " 'TEST BRANDCODE @1598296705444' 'LEA & PERRINS' 'HEINZ' 'SARA LEE '\n",
      " 'TEST BRANDCODE @1602694015481' 'OVEN FRY'\n",
      " 'TEST BRANDCODE @1598716510157' 'TWO HATS' 'STARBUCKS Bottled Drinks'\n",
      " 'FRITOS' 'PASTA RONI' 'BRAND CODE' 'ALLRECIPES' 'V8 V FUSION '\n",
      " 'TEST BRANDCODE @1599097538537' 'H20H' 'MILLER GENUINE DRAFT'\n",
      " 'TEST BRANDCODE @1603760319814' 'AMAZING GRAINS'\n",
      " 'TEST BRANDCODE @1595531348374' 'CHOCOLATE CHEERIOS' 'ONE' 'KEYSTONE ICE'\n",
      " 'DIGIORNO CHEESE' 'CALEBS KOLA' 'TEST BRANDCODE @1611088503776'\n",
      " 'PILSNER URQUELL' 'TEST BRANDCODE @1597935986474' ' MILANO'\n",
      " 'GENERAL MILLS CEREAL' 'TEST BRANDCODE @1598635635448' 'CLEAR'\n",
      " 'ARNOLD PALMER SPIKED HALF & HALF ORIGINAL' 'ABSOLUT® LIME'\n",
      " 'ABSOLUT® JUICE STRAWBERRY' 'ABSOLUT® ORIGINAL' 'ABSOLUT® MANDRIN'\n",
      " 'ABSOLUT ELYX' 'ABSOLUT® JUICE APPLE' 'ABERLOUR' 'JAMESON COLD BREW '\n",
      " 'JEFFERSON’S RESERVE' 'CAMPO VIEJO' 'KAHLUA' 'MUMM NAPA ' 'MALFY'\n",
      " 'MALIBU® LIME' 'MALIBU® STRAWBERRY' 'REDBREAST 12YO '\n",
      " 'TEST BRANDCODE @1597527951412' 'SOL' 'TEST BRANDCODE @1599159969725'\n",
      " \"WYLER'S\" 'TEST BRANDCODE @1601939762943' 'FAT RABBIT' 'TOTAL'\n",
      " 'TEST BRANDCODE @1598635435829' 'TEST BRANDCODE @1607708191093'\n",
      " 'MALIBU® PINEAPPLE' 'PURE BLISS' 'ROYAL DANSK'\n",
      " 'TEST BRANDCODE @1598711015578' 'DEVOUR' 'CAMPBELLS'\n",
      " 'TEST BRANDCODE @1595340086011' 'STUBBORN SODA' 'AVION'\n",
      " 'TEST BRANDCODE @1610039590413' 'TEST BRANDCODE @1610039590349'\n",
      " 'TEST BRANDCODE @1610039590443' 'TEST BRANDCODE @1610039590383'\n",
      " 'TEST BRANDCODE @1610039590990' 'TEST BRANDCODE @1610495622485'\n",
      " 'TEST BRANDCODE @1610496646104' 'TEST BRANDCODE @1610495622510'\n",
      " 'TEST BRANDCODE @1610495623019' 'TEST BRANDCODE @1610495622536'\n",
      " 'TEST BRANDCODE @1610495622560' 'ONE A DAY' '511111705239'\n",
      " 'COUNTRY CROCK ORIGINAL' \"HELLMANN'S/BEST FOODS\"\n",
      " 'TEST BRANDCODE @1597527951382' 'TEST BRANDCODE @1601644882040'\n",
      " 'TEST BRANDCODE @1597527952048' 'TEST BRANDCODE @1595968943787' 'TALENTI'\n",
      " 'TEST BRANDCODE @1598635634767' '511111305842' 'RED DOG' 'SMITH & FORGE'\n",
      " 'LIPTON Iced Tea Beverages' 'RUFFLES' 'V8 PLUS ENERGY ' 'POP SECRET'\n",
      " 'TEST BRANDCODE @1601939763539' 'CAPRI SUN' 'NUT HARVEST'\n",
      " 'TEST BRANDCODE @1598881563437' 'TEST BRANDCODE @1600291349208'\n",
      " 'HENRY WEINHARDS' 'TEST BRANDCODE @1599097539367' '511111905035'\n",
      " 'FRUITY CHEERIOS' 'FLINTSTONES MULTIVITAMIN GUMMY' \"FOSTER'S\"\n",
      " 'F WHITLOCK AND SONS' 'TEST BRANDCODE @1610046687007'\n",
      " 'TEST BRANDCODE @1610046687035' 'TEST BRANDCODE @1610046686980'\n",
      " 'TEST BRANDCODE @1599097538572' \"I CAN'T BELIEVE IT'S NOT BUTTER\"\n",
      " 'TEST BRANDCODE @1607463684777' 'BAKEN-ETS' 'LIBERTE'\n",
      " 'APPLE CINNAMON CHEERIOS' 'ST STEFANUS' 'DOLE CHILLED FRUIT JUICES'\n",
      " 'SUAVE' 'CLASSICO' 'STROEHMANN' 'BUBLY' '1915 BOLTHOUSE FARMS'\n",
      " 'TEST BRANDCODE @1610046687624' 'TEST BRANDCODE @1610046686954'\n",
      " 'TEST BRANDCODE @1610049748079' 'MIRALAX LAXATIVES'\n",
      " 'TEST BRANDCODE @1607708191128' 'TEST BRANDCODE @1607708191160'\n",
      " 'TEST BRANDCODE @1607708191197' 'TEST BRANDCODE @1607708191721'\n",
      " 'TEST BRANDCODE @1610562208718' 'TEST BRANDCODE @1610653894219'\n",
      " 'TEST BRANDCODE @1610562208600' 'TEST BRANDCODE @1610562208645'\n",
      " 'TEST BRANDCODE @1610562209325' 'TEST BRANDCODE @1610562208680'\n",
      " 'TEST BRANDCODE @1610660035827' 'TEST BRANDCODE @1610660035788'\n",
      " 'TEST BRANDCODE @1610660036398' 'TEST BRANDCODE @1610718082494'\n",
      " \"T.G.I. FRIDAY'S\" 'CUSQUENA' 'ARNOLD' 'MC CAFE' 'O-KE-DOKE'\n",
      " 'TEST BRANDCODE @1607312532260'\n",
      " 'ALKA SELTZER ADULT HEARTBURN CHEWS/ GUMMY/ TAB'\n",
      " 'TEST BRANDCODE @1595531348450' 'TEST BRANDCODE @1598635435926'\n",
      " 'TEST BRANDCODE @1607636368136' 'OATMEAL CRISP'\n",
      " 'TEST BRANDCODE @1609794603283' \"PHILLIPS'®DIGESTIVE\"\n",
      " 'TEST BRANDCODE @1610660035741' 'TEST BRANDCODE @1609794603237'\n",
      " 'TEST BRANDCODE @1609794603367' 'TEST BRANDCODE @1609794603327'\n",
      " 'TEST BRANDCODE @1609794603942' 'TEST BRANDCODE @1610038521409'\n",
      " 'TEST BRANDCODE @1610718082601' 'TEST BRANDCODE @1610718083279'\n",
      " 'TEST BRANDCODE @1610718082685' 'TEST BRANDCODE @1610718082644'\n",
      " 'TEST BRANDCODE @1610135036684' 'TEST BRANDCODE @1610493496943'\n",
      " 'TEST BRANDCODE @1610493089082' 'TEST BRANDCODE @1610135035614'\n",
      " 'TEST BRANDCODE @1610135035679' 'TEST BRANDCODE @1610135035546'\n",
      " 'TEST BRANDCODE @1610493088287' 'TEST BRANDCODE @1610493088459'\n",
      " 'TEST BRANDCODE @1610493088421' 'TEST BRANDCODE @1610493088494'\n",
      " 'TEST BRANDCODE @1610058181760' 'TEST BRANDCODE @1610135035332'\n",
      " 'TEST BRANDCODE @1610058182453' 'TEST BRANDCODE @1610058181682'\n",
      " 'TEST BRANDCODE @1610058181719' 'HERSHEYS CEREAL'\n",
      " 'TEST BRANDCODE @1598296704728' 'AMP' '511111905318' 'AXE'\n",
      " 'TEST BRANDCODE @1598635435855' 'TEST BRANDCODE @1606765582946'\n",
      " \"ALEXA-O'S\" '511111005704' '511111805069' 'STEEL RESERVE'\n",
      " 'POP WORKS & COMPANY' 'SABRITONES' '511111205456' 'SURE-JELL' 'TERRAPIN'\n",
      " 'SMART MADE' '511111405023' 'LOVE BEAUTY AND PLANET' 'PROTEIN ONE'\n",
      " '511111605492' 'TEST BRANDCODE @1603925787381' 'KOOL-AID'\n",
      " 'TEST BRANDCODE @1601939013241' 'ABSOLUT® CITRON' 'AVION R44'\n",
      " 'TEST BRANDCODE @1607639231710' 'MILLER FORTUNE' 'LEVER 2000' 'A+D'\n",
      " 'PULLUPS' 'TEST BRANDCODE @1606765578435' 'MOUNTAIN DEW' 'SUN CHIPS'\n",
      " 'TEST BRANDCODE @1598813527796' 'PURE LEAF Tea Leaves' 'CORN NUTS'\n",
      " \"BREAKSTONE'S\" 'SPARKS' 'TEST BRANDCODE @1598716509358' 'MAXWELL HOUSE'\n",
      " 'TEST BRANDCODE @1599849714378' 'TEST BRANDCODE @1598711015496'\n",
      " 'CONTINENTAL SOUP' 'GARNIER - HAIR COLOR' 'AFRIN® NASAL SPRAY'\n",
      " 'GOODBELLY' 'NEXXUS' 'V8' \"COLMAN'S\" 'PREGO'\n",
      " 'TEST BRANDCODE @1606765578985' 'BRUMMEL & BROWN' 'YQ YOPLAIT'\n",
      " '511111805298' 'TEST BRANDCODE @1604946244833'\n",
      " 'ALKA SELTZER COLD AND FLU TAB/ CAPS/ GEL'\n",
      " 'TEST BRANDCODE @1595531349206' '511111905806' '09090909090'\n",
      " '511111105831' 'DIETCHRIS2' 'BOLD BUTCHER' \"LAY'S\" \"BEN & JERRY'S\"\n",
      " 'TEST BRANDCODE @1598716509304' 'FRS920' 'TEST BRANDCODE @1598042673378'\n",
      " 'V8 HYDRATE' 'COUNTRY TIME' 'TEST BRANDCODE @1611088503732' 'NAKED JUICE'\n",
      " 'BREYERS' 'TEST BRANDCODE @1604437351646' '511111105275'\n",
      " 'GIRL SCOUT CEREAL' 'MILLER LITE' 'THIRD SHIFT' 'GOODNITES'\n",
      " 'TEST BRANDCODE @1599159969061' 'TEST BRANDCODE @1604434433706'\n",
      " 'MAYBELLINE' 'YOPLAIT' 'TEST BRANDCODE @1598290604214'\n",
      " 'TEST BRANDCODE @1607463684591' 'L’OREAL PARIS - HAIR COLOR'\n",
      " 'ALEVE CAPLETS, TABLETS, AND GEL CAPS' '511111605263'\n",
      " 'TEST BRANDCODE @1598633602226' 'TEST BRANDCODE @1607987891733'\n",
      " 'SAINT ARCHER' 'PHILADELPHIA' 'LATE JULY' 'FREIHOFERS' 'TYSKIE GRONIE'\n",
      " 'KLEENEX' 'TEST BRANDCODE @1601659120870' 'EL ISLENO' \"MAISER'S \"\n",
      " 'TEST BRANDCODE @1601939762976' 'VIVA' 'POISE'\n",
      " 'TEST BRANDCODE @1607639231747' 'ORE-IDA' '511111605331' 'BIAGLUT'\n",
      " 'BITTEN' 'TANG' 'PLUM ORGANICS' 'THE GLENLIVET CARIBBEAN RESERVE'\n",
      " \"THE GLENLIVET® FOUNDER'S RESERVE\" 'THE GLENLIVET® 12 YEAR ' 'TASSIMO'\n",
      " 'DIPPIN DOTS' 'STOVE TOP' 'BROWNBERRY' 'TEST BRANDCODE @1601644363664'\n",
      " 'OUI BY YOPLAIT' 'CERVEZA AGUILA' 'TEST BRANDCODE @1598716507602'\n",
      " 'TEST BRANDCODE @1600291349297' 'ICEHOUSE' 'FDS' 'BOLTHOUSE FARMS'\n",
      " 'Q-TIPS' \"HOFFMAN'S\" 'BETTY CROCKER FRUIT BY THE FOOT' 'ZUMBIDA'\n",
      " 'TEST BRANDCODE @1598296704794' 'TEST BRANDCODE @1607636368759'\n",
      " 'KRUNCHERS' 'TEST BRANDCODE @1607312532218' 'FUNYUNS'\n",
      " 'CAMPBELLS SPAGHETTIOS' 'BRUMMEL AND BROWN'\n",
      " 'TEST BRANDCODE @1597350074997' 'TEST BRANDCODE @1598711019491'\n",
      " 'SIERRA MIST' 'TEST BRANDCODE @1598881572443'\n",
      " 'TEST BRANDCODE @1598290603646' 'TEST BRANDCODE @1599159969108' 'OROWEAT'\n",
      " 'ROLD GOLD' 'TEST BRANDCODE @1611088503815'\n",
      " 'TEST BRANDCODE @1602694015992' 'TEST BRANDCODE @1595968942896'\n",
      " 'V8 SPLASH' 'KOTEX' '511111505082' 'OCEAN SPRAY' '511111305798'\n",
      " 'BAGEL BITES' 'POLLY-O' 'SUNSILK' \"BAKER'S\" 'ECCE PANIS' '511111405306'\n",
      " 'AIR WICK' \"HAMM'S\" 'TEST BRANDCODE @1599849713740' 'MONSTERS CEREAL'\n",
      " ' TAZO BOTTLED TEAS' 'TONI&GUY' '511111005377' '511111905479'\n",
      " 'TEST BRANDCODE @1597935986434' \"MICKEY'S\" 'CRYSTAL LIGHT'\n",
      " 'COORS EXTRA GOLD' 'D ITALIANO' 'TEST BRANDCODE @1600291349043'\n",
      " 'CLAUSSEN' 'BLUE MOON' 'DIPPIN DOTS CEREAL'\n",
      " 'TEST BRANDCODE @1598639215217' 'LIPTON TEA Leaves'\n",
      " 'TEST BRANDCODE @1613158231644']\n"
     ]
    }
   ],
   "source": [
    "#check for unqiue values\n",
    "for column in brands_df[cat_vars1]:\n",
    "  unique_values = brands_df[cat_vars1][column].unique()\n",
    "  print(f\"Unique values in {column}: {unique_values}\")"
   ]
  },
  {
   "cell_type": "code",
   "execution_count": 304,
   "id": "0be737de",
   "metadata": {},
   "outputs": [
    {
     "data": {
      "image/png": "[encoded data removed]",
      "text/plain": [
       "<Figure size 432x288 with 1 Axes>"
      ]
     },
     "metadata": {
      "needs_background": "light"
     },
     "output_type": "display_data"
    }
   ],
   "source": [
    "#Cardinality - checking the number of unique values in each categorical column\n",
    "\n",
    "import matplotlib.pyplot as plt\n",
    "\n",
    "# Filter categorical columns without lists\n",
    "cat_vars_no_lists = [column for column in brands_df[cat_vars1].columns if not brands_df[column].apply(lambda x: isinstance(x, list)).any()]\n",
    "\n",
    "chart = brands_df[cat_vars_no_lists].nunique().sort_values(ascending=False).plot.barh()\n",
    "\n",
    "for i in chart.patches:\n",
    "    plt.text(i.get_width()+0.1, i.get_y()+0.1, str(round(i.get_width(), 2)))\n",
    "\n",
    "plt.show()"
   ]
  },
  {
   "cell_type": "markdown",
   "id": "2c7301de",
   "metadata": {},
   "source": [
    "Most of the columns have unique values."
   ]
  },
  {
   "cell_type": "markdown",
   "id": "ea056084",
   "metadata": {},
   "source": [
    "# Different brands in categories "
   ]
  },
  {
   "cell_type": "code",
   "execution_count": 285,
   "id": "a8768cd7",
   "metadata": {},
   "outputs": [
    {
     "data": {
      "text/plain": [
       "Baking                         31.619537\n",
       "Beer Wine Spirits               7.712082\n",
       "Snacks                          6.426735\n",
       "Candy & Sweets                  6.083976\n",
       "Beverages                       5.398458\n",
       "Magazines                       3.770351\n",
       "Health & Wellness               3.770351\n",
       "Breakfast & Cereal              3.427592\n",
       "Grocery                         3.341902\n",
       "Dairy                           2.827763\n",
       "Condiments & Sauces             2.313625\n",
       "Frozen                          2.056555\n",
       "Personal Care                   1.713796\n",
       "Baby                            1.542416\n",
       "Canned Goods & Soups            1.028278\n",
       "Beauty                          0.771208\n",
       "Cleaning & Home Improvement     0.514139\n",
       "Deli                            0.514139\n",
       "Beauty & Personal Care          0.514139\n",
       "Household                       0.428449\n",
       "Bread & Bakery                  0.428449\n",
       "Dairy & Refrigerated            0.428449\n",
       "Outdoor                         0.085690\n",
       "Name: category, dtype: float64"
      ]
     },
     "execution_count": 285,
     "metadata": {},
     "output_type": "execute_result"
    }
   ],
   "source": [
    "brands_freq = 100*(brands_df['category'].value_counts() / len(brands_df))\n",
    "brands_freq"
   ]
  },
  {
   "cell_type": "markdown",
   "id": "80dc4c93",
   "metadata": {},
   "source": [
    "# Data quality issue\n",
    "# 1) Missing data\n",
    "# 2) data type handling\n",
    "# 3) More cardinality or unqiue values in columns"
   ]
  },
  {
   "cell_type": "code",
   "execution_count": null,
   "id": "cb5a025a",
   "metadata": {},
   "outputs": [],
   "source": []
  }
 ],
 "metadata": {
  "kernelspec": {
   "display_name": "Python 3 (ipykernel)",
   "language": "python",
   "name": "python3"
  },
  "language_info": {
   "codemirror_mode": {
    "name": "ipython",
    "version": 3
   },
   "file_extension": ".py",
   "mimetype": "text/x-python",
   "name": "python",
   "nbconvert_exporter": "python",
   "pygments_lexer": "ipython3",
   "version": "3.9.12"
  }
 },
 "nbformat": 4,
 "nbformat_minor": 5
}
